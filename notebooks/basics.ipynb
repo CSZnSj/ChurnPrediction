{
 "cells": [
  {
   "cell_type": "code",
   "execution_count": 1,
   "metadata": {},
   "outputs": [],
   "source": [
    "from utils import (\n",
    "     create_spark_session, load_config, custom_read_parquet, custom_to_timestamp\n",
    ")\n",
    "\n",
    "from plot_tools import (\n",
    "    plot_distribution, \n",
    "    plot_aggregated_by_time, \n",
    "    categorize,\n",
    "    plot_analysis_of_loan_recovery,\n",
    "    plot_tops,\n",
    "    categorize_time_difference\n",
    ")"
   ]
  },
  {
   "cell_type": "code",
   "execution_count": 2,
   "metadata": {},
   "outputs": [
    {
     "name": "stderr",
     "output_type": "stream",
     "text": [
      "24/09/01 14:15:26 WARN Utils: Your hostname, sajjad-Legion-5-15ACH6 resolves to a loopback address: 127.0.1.1; using 10.218.52.77 instead (on interface eno1)\n",
      "24/09/01 14:15:26 WARN Utils: Set SPARK_LOCAL_IP if you need to bind to another address\n",
      "Setting default log level to \"WARN\".\n",
      "To adjust logging level use sc.setLogLevel(newLevel). For SparkR, use setLogLevel(newLevel).\n",
      "24/09/01 14:15:26 WARN NativeCodeLoader: Unable to load native-hadoop library for your platform... using builtin-java classes where applicable\n"
     ]
    }
   ],
   "source": [
    "spark = create_spark_session()\n",
    "config = load_config()\n",
    "month_index = 0\n",
    "month = config[\"months\"][month_index]\n",
    "next_month = config[\"months\"][month_index+1]"
   ]
  },
  {
   "cell_type": "code",
   "execution_count": null,
   "metadata": {},
   "outputs": [],
   "source": []
  },
  {
   "cell_type": "markdown",
   "metadata": {},
   "source": [
    "# assign"
   ]
  },
  {
   "cell_type": "code",
   "execution_count": 3,
   "metadata": {},
   "outputs": [
    {
     "name": "stderr",
     "output_type": "stream",
     "text": [
      "                                                                                \r"
     ]
    },
    {
     "name": "stdout",
     "output_type": "stream",
     "text": [
      "+--------------------+--------+-------------------+--------------------+---------------+-----------+-------------------+\n",
      "|              bib_id|date_key|            fake_id|            nid_hash|        loan_id|loan_amount|     date_timestamp|\n",
      "+--------------------+--------+-------------------+--------------------+---------------+-----------+-------------------+\n",
      "|A81565F025E839BAA...|20240428|f-9801-000143526223|D522B41B28781AE6A...|404283785789014|    10000.0|2024-04-28 12:57:06|\n",
      "|A81565F025E839BAA...|20240428|f-9801-000143526223|D522B41B28781AE6A...|404283786107933|    10000.0|2024-04-28 14:45:06|\n",
      "|A81565F025E839BAA...|20240428|f-9801-000143526223|D522B41B28781AE6A...|404283785277888|    10000.0|2024-04-28 09:51:05|\n",
      "|A81565F025E839BAA...|20240428|f-9801-000143526223|D522B41B28781AE6A...|404283785354149|    10000.0|2024-04-28 10:25:15|\n",
      "|A81565F025E839BAA...|20240428|f-9801-000143526223|D522B41B28781AE6A...|404283785552861|    10000.0|2024-04-28 11:40:13|\n",
      "|A81565F025E839BAA...|20240428|f-9801-000143526223|D522B41B28781AE6A...|404283785260872|    10000.0|2024-04-28 09:42:10|\n",
      "|A81565F025E839BAA...|20240519|f-9801-000143526223|D522B41B28781AE6A...|405193850514008|    10000.0|2024-05-19 14:14:21|\n",
      "|A81773BCDFA8C4BAD...|20240420|f-9801-000089836512|9B402A8B9567E90AF...|404203761747574|    10000.0|2024-04-20 13:16:19|\n",
      "|A81773BCDFA8C4BAD...|20240422|f-9801-000089836512|9B402A8B9567E90AF...|404223769476675|    10000.0|2024-04-22 22:43:17|\n",
      "|A81773BCDFA8C4BAD...|20240424|f-9801-000089836512|9B402A8B9567E90AF...|404243773523033|    10000.0|2024-04-24 11:05:22|\n",
      "|A81773BCDFA8C4BAD...|20240423|f-9801-000089836512|9B402A8B9567E90AF...|404233770468343|    10000.0|2024-04-23 11:05:08|\n",
      "|A81773BCDFA8C4BAD...|20240423|f-9801-000089836512|9B402A8B9567E90AF...|404233770500034|    10000.0|2024-04-23 11:17:13|\n",
      "|A829410E5F19EED26...|20240501|f-9801-000099300836|E07C854CE9C5AB459...|405013794628281|    10000.0|2024-05-01 09:38:11|\n",
      "|A829410E5F19EED26...|20240427|f-9801-000099300836|E07C854CE9C5AB459...|404273781664778|    10000.0|2024-04-27 01:08:13|\n",
      "|A829410E5F19EED26...|20240428|f-9801-000099300836|E07C854CE9C5AB459...|404283784863769|    10000.0|2024-04-28 01:25:06|\n",
      "|A829410E5F19EED26...|20240519|f-9801-000099300836|E07C854CE9C5AB459...|405193850393446|    10000.0|2024-05-19 13:34:23|\n",
      "|A829410E5F19EED26...|20240420|f-9801-000099300836|E07C854CE9C5AB459...|404203761785692|    10000.0|2024-04-20 13:29:10|\n",
      "|A829410E5F19EED26...|20240425|f-9801-000099300836|E07C854CE9C5AB459...|404253778337449|    10000.0|2024-04-25 21:11:12|\n",
      "|A829410E5F19EED26...|20240428|f-9801-000099300836|E07C854CE9C5AB459...|404293787742204|    10000.0|2024-04-28 23:37:07|\n",
      "|A829410E5F19EED26...|20240519|f-9801-000099300836|E07C854CE9C5AB459...|405193851719470|    10000.0|2024-05-19 20:30:14|\n",
      "+--------------------+--------+-------------------+--------------------+---------------+-----------+-------------------+\n",
      "only showing top 20 rows\n",
      "\n"
     ]
    }
   ],
   "source": [
    "assign = custom_read_parquet(spark=spark, config=config, key=\"loan_assign\", month=month)\n",
    "assign = custom_to_timestamp(df=assign, col_name=\"date_timestamp\")\n",
    "assign.show()"
   ]
  },
  {
   "cell_type": "code",
   "execution_count": 4,
   "metadata": {},
   "outputs": [
    {
     "name": "stdout",
     "output_type": "stream",
     "text": [
      "root\n",
      " |-- bib_id: string (nullable = true)\n",
      " |-- date_key: string (nullable = true)\n",
      " |-- fake_id: string (nullable = true)\n",
      " |-- nid_hash: string (nullable = true)\n",
      " |-- loan_id: string (nullable = true)\n",
      " |-- loan_amount: double (nullable = true)\n",
      " |-- date_timestamp: timestamp (nullable = true)\n",
      "\n"
     ]
    }
   ],
   "source": [
    "assign.printSchema()"
   ]
  },
  {
   "cell_type": "code",
   "execution_count": 5,
   "metadata": {},
   "outputs": [
    {
     "name": "stderr",
     "output_type": "stream",
     "text": [
      "                                                                                \r"
     ]
    },
    {
     "name": "stdout",
     "output_type": "stream",
     "text": [
      "Figure saved to: output/CountPlot_of_loan_category__month_38.png\n"
     ]
    }
   ],
   "source": [
    "assign = categorize(\n",
    "df=assign, \n",
    "col_name=\"loan_amount\",\n",
    "bins=[float('-inf'), 5000, 10000, 20000, 50000, 100000, float('inf')],\n",
    "labels=[\"VeryLow\", \"5T-10T\", \"10T-20T\", \"20T-50T\", \"50T-100T\", \"Extreme\"],\n",
    "new_column_name=\"loan_category\"\n",
    ")\n",
    "\n",
    "plot_distribution(df=assign, plot_type='count', month=month, x=\"loan_category\")\n"
   ]
  },
  {
   "cell_type": "code",
   "execution_count": 7,
   "metadata": {},
   "outputs": [
    {
     "name": "stderr",
     "output_type": "stream",
     "text": [
      "                                                                                \r"
     ]
    },
    {
     "name": "stdout",
     "output_type": "stream",
     "text": [
      "Figure saved to: output/HistPlot_of_SumAggregated_loan_amount_by_nid__month_38.png\n"
     ]
    }
   ],
   "source": [
    "from pyspark.sql.functions import col, sum\n",
    "\n",
    "aggregated_nid = assign.groupBy(\"nid_hash\").agg(sum(col(\"loan_amount\")).alias(\"SumAggregated_loan_amount_by_nid\"))\n",
    "plot_distribution(df=aggregated_nid.select(\"SumAggregated_loan_amount_by_nid\"), plot_type='hist', month=month, x=\"SumAggregated_loan_amount_by_nid\")\n"
   ]
  },
  {
   "cell_type": "code",
   "execution_count": 8,
   "metadata": {},
   "outputs": [
    {
     "name": "stderr",
     "output_type": "stream",
     "text": [
      "                                                                                \r"
     ]
    },
    {
     "name": "stdout",
     "output_type": "stream",
     "text": [
      "Figure saved to: output/LinePlot_of_SumAggregated_loan_amount_by_Hour__month_38.png\n",
      "Figure saved to: output/LinePlot_of_SumAggregated_loan_amount_by_DayOfWeek__month_38.png\n"
     ]
    },
    {
     "name": "stderr",
     "output_type": "stream",
     "text": [
      "                                                                                \r"
     ]
    },
    {
     "name": "stdout",
     "output_type": "stream",
     "text": [
      "Figure saved to: output/LinePlot_of_SumAggregated_loan_amount_by_DayOfMonth__month_38.png\n"
     ]
    }
   ],
   "source": [
    "plot_aggregated_by_time(df=assign, timestamp_column=\"date_timestamp\", agg_col=\"loan_amount\", month=month)"
   ]
  },
  {
   "cell_type": "markdown",
   "metadata": {},
   "source": [
    "# recovery"
   ]
  },
  {
   "cell_type": "code",
   "execution_count": 9,
   "metadata": {},
   "outputs": [
    {
     "name": "stdout",
     "output_type": "stream",
     "text": [
      "+--------------------+--------+-------------------+--------------------+---------------+-----------+-------------+-------------------+\n",
      "|              bib_id|date_key|            fake_id|            nid_hash|        loan_id|loan_amount|hsdp_recovery|     date_timestamp|\n",
      "+--------------------+--------+-------------------+--------------------+---------------+-----------+-------------+-------------------+\n",
      "|587476A6837ABCAE2...|20240514|f-9801-000104060322|52673E25F6A3EE999...|405063809636961|    10000.0|       2909.0|2024-05-14 19:03:06|\n",
      "|587476A6837ABCAE2...|20240505|f-9801-000104060322|52673E25F6A3EE999...|404263780566810|    20000.0|      18228.0|2024-05-05 11:52:54|\n",
      "|587476A6837ABCAE2...|20240514|f-9801-000104060322|52673E25F6A3EE999...|405063810034865|    10000.0|      10000.0|2024-05-14 19:03:07|\n",
      "|587476A6837ABCAE2...|20240516|f-9801-000104060322|52673E25F6A3EE999...|405123828317223|    10000.0|      10000.0|2024-05-16 13:31:13|\n",
      "|587476A6837ABCAE2...|20240516|f-9801-000104060322|52673E25F6A3EE999...|405123829683205|     5000.0|       5000.0|2024-05-16 13:31:14|\n",
      "|587476A6837ABCAE2...|20240516|f-9801-000104060322|52673E25F6A3EE999...|405133831846054|    10000.0|      10000.0|2024-05-16 13:31:15|\n",
      "|587476A6837ABCAE2...|20240516|f-9801-000104060322|52673E25F6A3EE999...|405133831230398|    10000.0|      10000.0|2024-05-16 13:31:14|\n",
      "|587476A6837ABCAE2...|20240420|f-9801-000104060322|52673E25F6A3EE999...|404173755399506|    50000.0|      50000.0|2024-04-20 14:33:45|\n",
      "|587476A6837ABCAE2...|20240516|f-9801-000104060322|52673E25F6A3EE999...|405123828690940|    10000.0|      10000.0|2024-05-16 13:31:14|\n",
      "|587476A6837ABCAE2...|20240420|f-9801-000104060322|52673E25F6A3EE999...|404163752767819|    50000.0|      50000.0|2024-04-20 14:33:45|\n",
      "|587476A6837ABCAE2...|20240429|f-9801-000104060322|52673E25F6A3EE999...|404233772501299|    10000.0|      10000.0|2024-04-29 14:59:20|\n",
      "|587476A6837ABCAE2...|20240513|f-9801-000104060322|52673E25F6A3EE999...|405033801945928|    11667.0|      11667.0|2024-05-13 09:19:05|\n",
      "|587476A6837ABCAE2...|20240429|f-9801-000104060322|52673E25F6A3EE999...|404243772558802|    10000.0|      10000.0|2024-04-29 14:59:20|\n",
      "|587476A6837ABCAE2...|20240520|f-9801-000104060322|52673E25F6A3EE999...|405143835860855|     5000.0|       5000.0|2024-05-20 10:49:17|\n",
      "|587476A6837ABCAE2...|20240424|f-9801-000104060322|52673E25F6A3EE999...|404213766111277|    10000.0|      10000.0|2024-04-24 21:48:45|\n",
      "|587476A6837ABCAE2...|20240424|f-9801-000104060322|52673E25F6A3EE999...|404203762621180|    10000.0|      10000.0|2024-04-24 21:48:44|\n",
      "|587476A6837ABCAE2...|20240426|f-9801-000104060322|52673E25F6A3EE999...|404223768316288|    10000.0|      10000.0|2024-04-26 18:25:55|\n",
      "|587476A6837ABCAE2...|20240420|f-9801-000104060322|52673E25F6A3EE999...|404163751927303|    10000.0|      10000.0|2024-04-20 14:33:44|\n",
      "|587476A6837ABCAE2...|20240514|f-9801-000104060322|52673E25F6A3EE999...|405093820962083|    50000.0|      50000.0|2024-05-14 19:03:09|\n",
      "|587476A6837ABCAE2...|20240426|f-9801-000104060322|52673E25F6A3EE999...|404223768080747|    10000.0|       8091.0|2024-04-26 18:25:52|\n",
      "+--------------------+--------+-------------------+--------------------+---------------+-----------+-------------+-------------------+\n",
      "only showing top 20 rows\n",
      "\n"
     ]
    }
   ],
   "source": [
    "recovery = custom_read_parquet(spark=spark, config=config, key=\"loan_recovery\", month=month)\n",
    "recovery = custom_to_timestamp(df=recovery, col_name=\"date_timestamp\")\n",
    "recovery.show()"
   ]
  },
  {
   "cell_type": "code",
   "execution_count": 10,
   "metadata": {},
   "outputs": [
    {
     "name": "stdout",
     "output_type": "stream",
     "text": [
      "root\n",
      " |-- bib_id: string (nullable = true)\n",
      " |-- date_key: string (nullable = true)\n",
      " |-- fake_id: string (nullable = true)\n",
      " |-- nid_hash: string (nullable = true)\n",
      " |-- loan_id: string (nullable = true)\n",
      " |-- loan_amount: double (nullable = true)\n",
      " |-- hsdp_recovery: double (nullable = true)\n",
      " |-- date_timestamp: timestamp (nullable = true)\n",
      "\n"
     ]
    }
   ],
   "source": [
    "recovery.printSchema()"
   ]
  },
  {
   "cell_type": "code",
   "execution_count": 11,
   "metadata": {},
   "outputs": [
    {
     "name": "stderr",
     "output_type": "stream",
     "text": [
      "                                                                                \r"
     ]
    },
    {
     "name": "stdout",
     "output_type": "stream",
     "text": [
      "Figure saved to: output/Comparison of Recovered and Assigned Loan Amounts --- 82.00% of loan_amounts are recovered.png\n"
     ]
    }
   ],
   "source": [
    "plot_analysis_of_loan_recovery(assign=assign, recovery=recovery)"
   ]
  },
  {
   "cell_type": "markdown",
   "metadata": {},
   "source": [
    "# package"
   ]
  },
  {
   "cell_type": "code",
   "execution_count": 12,
   "metadata": {},
   "outputs": [
    {
     "name": "stdout",
     "output_type": "stream",
     "text": [
      "+--------------------+--------+--------------------+--------------------+-------------+------------+--------------------+-------------------+-------------------+\n",
      "|              bib_id|date_key|             fake_id|            nid_hash|offering_code|offer_amount|       offering_name|    activation_date|  deactivation_date|\n",
      "+--------------------+--------+--------------------+--------------------+-------------+------------+--------------------+-------------------+-------------------+\n",
      "|0D2379F0B99698833...|20240515| f-9801-000078374670|5A9967E423C684E52...|    PO1974XOI|    175000.0|Weekly 2 5GB Inte...|2024-05-15 17:32:21|2024-05-22 23:59:59|\n",
      "|0D2379F0B99698833...|20240519| f-9801-000078374670|5A9967E423C684E52...|    PO1974XOI|    175000.0|Weekly 2 5GB Inte...|2024-05-19 11:15:19|2024-05-26 23:59:59|\n",
      "|0D2379F0B99698833...|20240430| f-9801-000078374670|5A9967E423C684E52...|    PO1974XOI|    175000.0|Weekly 2 5GB Inte...|2024-04-30 08:28:30|2024-05-07 23:59:59|\n",
      "|0D2379F0B99698833...|20240507| f-9801-000078374670|5A9967E423C684E52...|    PO1974XOI|    175000.0|Weekly 2 5GB Inte...|2024-05-07 13:09:54|2024-05-14 23:59:59|\n",
      "|0D2379F0B99698833...|20240512| f-9801-000078374670|5A9967E423C684E52...|    PO1974XOI|    175000.0|Weekly 2 5GB Inte...|2024-05-12 14:01:56|2024-05-19 23:59:59|\n",
      "|0D32A148CE6AF3993...|20240519| f-9801-000154955190|62B0C1F8AA075E180...|    PO2046VTH|    286000.0|        Monthly 4 GB|2024-05-19 16:25:43|2024-06-18 23:59:59|\n",
      "|0D39842ED055DEF4A...|20240502| f-9801-000098504173|0902E354C8E3ADE7D...|    PO2258HBH|   1481000.0| 38GB 30Days 148100T|2024-05-02 00:46:58|2024-06-01 00:46:58|\n",
      "|0D62F3C4A4FEFED34...|20240420| f-9801-000094562332|4861AD39B00C6E088...|    PO2107HBH|    835000.0|        120Days 15GB|2024-04-20 18:25:50|2024-08-18 18:25:50|\n",
      "|0D62F3C4A4FEFED34...|20240420| f-9801-000094562332|4861AD39B00C6E088...|    PO2107HBH|    835000.0|        120Days 15GB|2024-04-20 18:25:51|2024-08-18 18:25:51|\n",
      "|0D62F3C4A4FEFED34...|20240420| f-9801-000094562332|4861AD39B00C6E088...|    PO2107HBH|    835000.0|        120Days 15GB|2024-04-20 18:25:52|2024-08-18 18:25:52|\n",
      "|0D62F3C4A4FEFED34...|20240420| f-9801-000094562332|4861AD39B00C6E088...|    PO2107HBH|    835000.0|        120Days 15GB|2024-04-20 18:25:53|2024-08-18 18:25:53|\n",
      "|0D62F3C4A4FEFED34...|20240516| f-9801-000094562332|4861AD39B00C6E088...|    PO1994VTH|    380000.0|         Monthly 7GB|2024-05-16 15:43:07|2024-06-15 23:59:59|\n",
      "|0D62F3C4A4FEFED34...|20240516| f-9801-000094562332|4861AD39B00C6E088...|    PO1994VTH|    380000.0|         Monthly 7GB|2024-05-16 15:45:08|2024-06-15 23:59:59|\n",
      "|0D8CC87B801F446CB...|20240421|f-9801-1700004031...|AA4E11984F1F2137D...|    PO2255HBH|   1425000.0| 32GB 30Days 142500T|2024-04-21 20:20:31|2024-05-21 20:20:31|\n",
      "|0D8D73FF32986191A...|20240426|f-9801-4140004074...|70A54D70B0884CC53...|    PO1994VTH|    380000.0|         Monthly 7GB|2024-04-26 09:16:30|2024-05-26 23:59:59|\n",
      "|0D8D73FF32986191A...|20240515|f-9801-4140004074...|70A54D70B0884CC53...|    PO1966OEB|    248000.0|          15Days 5GB|2024-05-15 00:44:25|2024-05-30 23:59:59|\n",
      "|0D8D73FF32986191A...|20240507|f-9801-4140004074...|70A54D70B0884CC53...|    PO1993XOI|    317000.0|         Monthly 5GB|2024-05-07 09:26:49|2024-06-06 23:59:59|\n",
      "|0E83FEDF525CC7042...|20240516| f-9801-000113016178|723C29EBFBA2DCE1A...|    PO2052OEB|    188000.0|        Monthly 2 GB|2024-05-16 17:03:56|2024-06-15 23:59:59|\n",
      "|0E83FEDF525CC7042...|20240520| f-9801-000113016178|723C29EBFBA2DCE1A...|    PO2010VTH|     76400.0|Daily 750 MB Inte...|2024-05-20 00:26:48|2024-05-21 00:26:48|\n",
      "|0ED605DD24BD31222...|20240516| f-9801-000090516103|2C9E8C8420F9FFC78...|    PO2105HBH|    835000.0|      120 Days 15 GB|2024-05-16 12:27:02|2024-09-13 12:27:02|\n",
      "+--------------------+--------+--------------------+--------------------+-------------+------------+--------------------+-------------------+-------------------+\n",
      "only showing top 20 rows\n",
      "\n"
     ]
    }
   ],
   "source": [
    "package = custom_read_parquet(spark=spark, config=config, key=\"package\", month=month)\n",
    "package = custom_to_timestamp(df=package, col_name=\"activation_date\")\n",
    "package = custom_to_timestamp(df=package, col_name=\"deactivation_date\") \n",
    "package.show()"
   ]
  },
  {
   "cell_type": "code",
   "execution_count": 13,
   "metadata": {},
   "outputs": [
    {
     "name": "stdout",
     "output_type": "stream",
     "text": [
      "root\n",
      " |-- bib_id: string (nullable = true)\n",
      " |-- date_key: string (nullable = true)\n",
      " |-- fake_id: string (nullable = true)\n",
      " |-- nid_hash: string (nullable = true)\n",
      " |-- offering_code: string (nullable = true)\n",
      " |-- offer_amount: double (nullable = true)\n",
      " |-- offering_name: string (nullable = true)\n",
      " |-- activation_date: timestamp (nullable = true)\n",
      " |-- deactivation_date: timestamp (nullable = true)\n",
      "\n"
     ]
    }
   ],
   "source": [
    "package.printSchema()"
   ]
  },
  {
   "cell_type": "code",
   "execution_count": 14,
   "metadata": {},
   "outputs": [
    {
     "name": "stdout",
     "output_type": "stream",
     "text": [
      "+--------------------+--------+--------------------+--------------------+-------------+------------+--------------------+-------------------+-------------------+--------------------+-----------------+\n",
      "|              bib_id|date_key|             fake_id|            nid_hash|offering_code|offer_amount|       offering_name|    activation_date|  deactivation_date|time_difference_days|duration_category|\n",
      "+--------------------+--------+--------------------+--------------------+-------------+------------+--------------------+-------------------+-------------------+--------------------+-----------------+\n",
      "|0D2379F0B99698833...|20240515| f-9801-000078374670|5A9967E423C684E52...|    PO1974XOI|    175000.0|Weekly 2 5GB Inte...|2024-05-15 17:32:21|2024-05-22 23:59:59|                   7|           Weekly|\n",
      "|0D2379F0B99698833...|20240519| f-9801-000078374670|5A9967E423C684E52...|    PO1974XOI|    175000.0|Weekly 2 5GB Inte...|2024-05-19 11:15:19|2024-05-26 23:59:59|                   7|           Weekly|\n",
      "|0D2379F0B99698833...|20240430| f-9801-000078374670|5A9967E423C684E52...|    PO1974XOI|    175000.0|Weekly 2 5GB Inte...|2024-04-30 08:28:30|2024-05-07 23:59:59|                   7|           Weekly|\n",
      "|0D2379F0B99698833...|20240507| f-9801-000078374670|5A9967E423C684E52...|    PO1974XOI|    175000.0|Weekly 2 5GB Inte...|2024-05-07 13:09:54|2024-05-14 23:59:59|                   7|           Weekly|\n",
      "|0D2379F0B99698833...|20240512| f-9801-000078374670|5A9967E423C684E52...|    PO1974XOI|    175000.0|Weekly 2 5GB Inte...|2024-05-12 14:01:56|2024-05-19 23:59:59|                   7|           Weekly|\n",
      "|0D32A148CE6AF3993...|20240519| f-9801-000154955190|62B0C1F8AA075E180...|    PO2046VTH|    286000.0|        Monthly 4 GB|2024-05-19 16:25:43|2024-06-18 23:59:59|                  30|          Monthly|\n",
      "|0D39842ED055DEF4A...|20240502| f-9801-000098504173|0902E354C8E3ADE7D...|    PO2258HBH|   1481000.0| 38GB 30Days 148100T|2024-05-02 00:46:58|2024-06-01 00:46:58|                  30|          Monthly|\n",
      "|0D62F3C4A4FEFED34...|20240420| f-9801-000094562332|4861AD39B00C6E088...|    PO2107HBH|    835000.0|        120Days 15GB|2024-04-20 18:25:50|2024-08-18 18:25:50|                 120|         4 Months|\n",
      "|0D62F3C4A4FEFED34...|20240420| f-9801-000094562332|4861AD39B00C6E088...|    PO2107HBH|    835000.0|        120Days 15GB|2024-04-20 18:25:51|2024-08-18 18:25:51|                 120|         4 Months|\n",
      "|0D62F3C4A4FEFED34...|20240420| f-9801-000094562332|4861AD39B00C6E088...|    PO2107HBH|    835000.0|        120Days 15GB|2024-04-20 18:25:52|2024-08-18 18:25:52|                 120|         4 Months|\n",
      "|0D62F3C4A4FEFED34...|20240420| f-9801-000094562332|4861AD39B00C6E088...|    PO2107HBH|    835000.0|        120Days 15GB|2024-04-20 18:25:53|2024-08-18 18:25:53|                 120|         4 Months|\n",
      "|0D62F3C4A4FEFED34...|20240516| f-9801-000094562332|4861AD39B00C6E088...|    PO1994VTH|    380000.0|         Monthly 7GB|2024-05-16 15:43:07|2024-06-15 23:59:59|                  30|          Monthly|\n",
      "|0D62F3C4A4FEFED34...|20240516| f-9801-000094562332|4861AD39B00C6E088...|    PO1994VTH|    380000.0|         Monthly 7GB|2024-05-16 15:45:08|2024-06-15 23:59:59|                  30|          Monthly|\n",
      "|0D8CC87B801F446CB...|20240421|f-9801-1700004031...|AA4E11984F1F2137D...|    PO2255HBH|   1425000.0| 32GB 30Days 142500T|2024-04-21 20:20:31|2024-05-21 20:20:31|                  30|          Monthly|\n",
      "|0D8D73FF32986191A...|20240426|f-9801-4140004074...|70A54D70B0884CC53...|    PO1994VTH|    380000.0|         Monthly 7GB|2024-04-26 09:16:30|2024-05-26 23:59:59|                  30|          Monthly|\n",
      "|0D8D73FF32986191A...|20240515|f-9801-4140004074...|70A54D70B0884CC53...|    PO1966OEB|    248000.0|          15Days 5GB|2024-05-15 00:44:25|2024-05-30 23:59:59|                  15|     Half-Monthly|\n",
      "|0D8D73FF32986191A...|20240507|f-9801-4140004074...|70A54D70B0884CC53...|    PO1993XOI|    317000.0|         Monthly 5GB|2024-05-07 09:26:49|2024-06-06 23:59:59|                  30|          Monthly|\n",
      "|0E83FEDF525CC7042...|20240516| f-9801-000113016178|723C29EBFBA2DCE1A...|    PO2052OEB|    188000.0|        Monthly 2 GB|2024-05-16 17:03:56|2024-06-15 23:59:59|                  30|          Monthly|\n",
      "|0E83FEDF525CC7042...|20240520| f-9801-000113016178|723C29EBFBA2DCE1A...|    PO2010VTH|     76400.0|Daily 750 MB Inte...|2024-05-20 00:26:48|2024-05-21 00:26:48|                   1|            Daily|\n",
      "|0ED605DD24BD31222...|20240516| f-9801-000090516103|2C9E8C8420F9FFC78...|    PO2105HBH|    835000.0|      120 Days 15 GB|2024-05-16 12:27:02|2024-09-13 12:27:02|                 120|         4 Months|\n",
      "+--------------------+--------+--------------------+--------------------+-------------+------------+--------------------+-------------------+-------------------+--------------------+-----------------+\n",
      "only showing top 20 rows\n",
      "\n"
     ]
    }
   ],
   "source": [
    "diff = categorize_time_difference(df=package)\n",
    "diff.show()"
   ]
  },
  {
   "cell_type": "code",
   "execution_count": 15,
   "metadata": {},
   "outputs": [
    {
     "name": "stderr",
     "output_type": "stream",
     "text": [
      "                                                                                \r"
     ]
    },
    {
     "name": "stdout",
     "output_type": "stream",
     "text": [
      "Figure saved to: output/top_10_popular_duration_categorys__month_38.png\n"
     ]
    }
   ],
   "source": [
    "plot_tops(diff, col_name=\"duration_category\", index=10, month=month)"
   ]
  },
  {
   "cell_type": "code",
   "execution_count": 16,
   "metadata": {},
   "outputs": [
    {
     "name": "stdout",
     "output_type": "stream",
     "text": [
      "Figure saved to: output/top_25_popular_offering_names__month_38.png\n"
     ]
    }
   ],
   "source": [
    "plot_tops(df=package, col_name=\"offering_name\", index=25, month=month)"
   ]
  },
  {
   "cell_type": "markdown",
   "metadata": {},
   "source": [
    "# recharge"
   ]
  },
  {
   "cell_type": "code",
   "execution_count": 17,
   "metadata": {},
   "outputs": [
    {
     "name": "stdout",
     "output_type": "stream",
     "text": [
      "+--------------------+--------+--------------------+--------------------+------------------+-------------------+--------------+--------------------------+-------------------------+\n",
      "|              bib_id|date_key|             fake_id|            nid_hash|recharge_value_amt|        recharge_dt|origin_host_nm|account_balance_before_amt|account_balance_after_amt|\n",
      "+--------------------+--------+--------------------+--------------------+------------------+-------------------+--------------+--------------------------+-------------------------+\n",
      "|4242ED39C4472A9EF...|20240501| f-9801-000081960733|FE1D37955B3872882...|          100000.0|2024-05-01 11:04:05|    MFSEREFILL|                    1086.0|                 101086.0|\n",
      "|4242ED39C4472A9EF...|20240518| f-9801-000081960733|FE1D37955B3872882...|          100000.0|2024-05-18 16:48:03|    MFSEREFILL|                       4.0|                 100004.0|\n",
      "|427F2D7D2FE46665E...|20240510|f-9801-3620004212...|7F350C4824AFC30C2...|          100000.0|2024-05-10 16:19:06|    MFSEREFILL|                   16980.0|                 116980.0|\n",
      "|427F2D7D2FE46665E...|20240420|f-9801-3620004212...|7F350C4824AFC30C2...|          100000.0|2024-04-20 12:06:59|    MFSEREFILL|                   58957.0|                 158957.0|\n",
      "|427F2D7D2FE46665E...|20240504|f-9801-3620004212...|7F350C4824AFC30C2...|          100000.0|2024-05-04 11:48:56|    MFSEREFILL|                   28667.0|                 128667.0|\n",
      "|42934EEF15CE0ADB4...|20240427| f-9801-000123085013|0E4EA260E7BAC51AA...|          200000.0|2024-04-27 14:32:36|    MFSEREFILL|                   74251.0|                 274251.0|\n",
      "|42934EEF15CE0ADB4...|20240514| f-9801-000123085013|0E4EA260E7BAC51AA...|          181818.0|2024-05-14 08:33:16|          USSD|                   95122.0|                 276940.0|\n",
      "|42934EEF15CE0ADB4...|20240514| f-9801-000123085013|0E4EA260E7BAC51AA...|          181818.0|2024-05-14 08:33:55|          USSD|                  276940.0|                 458758.0|\n",
      "|42934EEF15CE0ADB4...|20240514| f-9801-000123085013|0E4EA260E7BAC51AA...|          181818.0|2024-05-14 08:34:39|          USSD|                  458758.0|                 640576.0|\n",
      "|42934EEF15CE0ADB4...|20240514| f-9801-000123085013|0E4EA260E7BAC51AA...|          181818.0|2024-05-14 08:36:07|          USSD|                  822394.0|                1004212.0|\n",
      "|42934EEF15CE0ADB4...|20240421| f-9801-000123085013|0E4EA260E7BAC51AA...|          181818.0|2024-04-21 12:19:51|          USSD|                  670601.0|                 852419.0|\n",
      "|42934EEF15CE0ADB4...|20240421| f-9801-000123085013|0E4EA260E7BAC51AA...|           90909.0|2024-04-21 12:17:19|    MFSEREFILL|                  579692.0|                 670601.0|\n",
      "|42934EEF15CE0ADB4...|20240421| f-9801-000123085013|0E4EA260E7BAC51AA...|          181818.0|2024-04-21 12:20:22|          USSD|                  852419.0|                1034237.0|\n",
      "|42934EEF15CE0ADB4...|20240517| f-9801-000123085013|0E4EA260E7BAC51AA...|          500000.0|2024-05-17 11:47:56|    MFSEREFILL|                  975388.0|                1475388.0|\n",
      "|42934EEF15CE0ADB4...|20240514| f-9801-000123085013|0E4EA260E7BAC51AA...|          181818.0|2024-05-14 08:35:18|          USSD|                  640576.0|                 822394.0|\n",
      "|42CE5F9946951320C...|20240512| f-9801-000109440588|D7373274B346D4173...|           45455.0|2024-05-12 13:36:23|    MFSEREFILL|                       0.0|                  45455.0|\n",
      "|435892436F30C76B1...|20240425| f-9801-000163436471|2D75C33D9017A2D38...|           50000.0|2024-04-25 09:42:45|       drvl506|                       0.0|                  50000.0|\n",
      "|435892436F30C76B1...|20240510| f-9801-000163436471|2D75C33D9017A2D38...|          200000.0|2024-05-10 23:14:51|    MFSEREFILL|                       0.0|                 200000.0|\n",
      "|436BECBC781AAA4D6...|20240421|f-9801-5850000188...|6CBAB4CD542ED52D5...|           90909.0|2024-04-21 18:57:33|          USSD|                       9.0|                  90918.0|\n",
      "|436BECBC781AAA4D6...|20240520|f-9801-5850000188...|6CBAB4CD542ED52D5...|          181818.0|2024-05-20 21:43:06|          USSD|                       0.0|                 181818.0|\n",
      "+--------------------+--------+--------------------+--------------------+------------------+-------------------+--------------+--------------------------+-------------------------+\n",
      "only showing top 20 rows\n",
      "\n"
     ]
    }
   ],
   "source": [
    "recharge = custom_read_parquet(spark=spark, config=config, key=\"recharge\", month=month)\n",
    "recharge = custom_to_timestamp(df=recharge, col_name=\"recharge_dt\")\n",
    "recharge.show()"
   ]
  },
  {
   "cell_type": "code",
   "execution_count": 18,
   "metadata": {},
   "outputs": [
    {
     "name": "stdout",
     "output_type": "stream",
     "text": [
      "root\n",
      " |-- bib_id: string (nullable = true)\n",
      " |-- date_key: string (nullable = true)\n",
      " |-- fake_id: string (nullable = true)\n",
      " |-- nid_hash: string (nullable = true)\n",
      " |-- recharge_value_amt: double (nullable = true)\n",
      " |-- recharge_dt: timestamp (nullable = true)\n",
      " |-- origin_host_nm: string (nullable = true)\n",
      " |-- account_balance_before_amt: double (nullable = true)\n",
      " |-- account_balance_after_amt: double (nullable = true)\n",
      "\n"
     ]
    }
   ],
   "source": [
    "recharge.printSchema()"
   ]
  },
  {
   "cell_type": "code",
   "execution_count": 19,
   "metadata": {},
   "outputs": [
    {
     "name": "stdout",
     "output_type": "stream",
     "text": [
      "Figure saved to: output/CountPlot_of_recharge_category__month_38.png\n"
     ]
    }
   ],
   "source": [
    "recharge = categorize(\n",
    "    df=recharge, \n",
    "    col_name=\"recharge_value_amt\", \n",
    "    bins=[float('-inf'), 10000, 20000, 50000, 100000, 200000, 500000, float('inf')],\n",
    "    labels=[\"1T\", \"2T\", \"5T\", \"10T\", \"20T\", \"50T\", \"More\"],\n",
    "    new_column_name=\"recharge_category\"\n",
    ")\n",
    "\n",
    "plot_distribution(df=recharge.select(\"recharge_category\"), plot_type='count', month=month, x=\"recharge_category\")"
   ]
  },
  {
   "cell_type": "code",
   "execution_count": 20,
   "metadata": {},
   "outputs": [
    {
     "name": "stderr",
     "output_type": "stream",
     "text": [
      "                                                                                \r"
     ]
    },
    {
     "name": "stdout",
     "output_type": "stream",
     "text": [
      "Figure saved to: output/LinePlot_of_SumAggregated_recharge_value_amt_by_Hour__month_38.png\n"
     ]
    },
    {
     "name": "stderr",
     "output_type": "stream",
     "text": [
      "                                                                                \r"
     ]
    },
    {
     "name": "stdout",
     "output_type": "stream",
     "text": [
      "Figure saved to: output/LinePlot_of_SumAggregated_recharge_value_amt_by_DayOfWeek__month_38.png\n"
     ]
    },
    {
     "name": "stderr",
     "output_type": "stream",
     "text": [
      "                                                                                \r"
     ]
    },
    {
     "name": "stdout",
     "output_type": "stream",
     "text": [
      "Figure saved to: output/LinePlot_of_SumAggregated_recharge_value_amt_by_DayOfMonth__month_38.png\n"
     ]
    }
   ],
   "source": [
    "plot_aggregated_by_time(df=recharge, timestamp_column=\"recharge_dt\", agg_col=\"recharge_value_amt\", month=month )"
   ]
  },
  {
   "cell_type": "markdown",
   "metadata": {},
   "source": [
    "# user"
   ]
  },
  {
   "cell_type": "code",
   "execution_count": 21,
   "metadata": {},
   "outputs": [
    {
     "name": "stdout",
     "output_type": "stream",
     "text": [
      "+--------------------+--------------------+--------------------+---------------+--------+-------------------+---------------+--------------+---------------+---------------+-----+\n",
      "|              bib_id|             fake_id|            nid_hash|contract_type_v|gender_v|registration_date_d|date_of_birth_d|ability_status|account_balance|base_station_cd|sitei|\n",
      "+--------------------+--------------------+--------------------+---------------+--------+-------------------+---------------+--------------+---------------+---------------+-----+\n",
      "|7A90F5DFA460EBDDC...|f-9801-2960001699...|E0B7D16302BF2B4B6...|              P|       F|           20090714|       19610628|        Active|  120431.349997|      LH1292XB1|H1292|\n",
      "|7A9BA18851A16FD85...|                NULL|32B355B1462D9033C...|              N|       F|           20211229|       19780801|          Hard|            0.0|        H7206XC|H7206|\n",
      "|7A9BF2DF116AAB41D...| f-9801-000121961192|CC6518A6B366B6DDD...|              P|       F|           20191126|       19840315|        Active|   46420.683334|      UT8915XA0|T8915|\n",
      "|7A9FA7A2BE2C5514E...| f-9801-000163114592|337DB7FC75375D195...|              P|       M|           20231014|       19830201|        Active|   68872.016668|      LT9474XB1|T9474|\n",
      "|7AAD654C4C19C9B2A...| f-9801-000164688779|B17B4DC6C4803145C...|              N|       M|           20240307|       20040611|          Soft|            0.0|      UT3384XB4|T3384|\n",
      "|7ACB75A42872DB823...| f-9801-000164257907|2A82FFC7FB755237D...|              P|       M|           20240201|       20030324|        Active|  127763.516666|      LT5541XA5|T5541|\n",
      "|7ACC6C44D78F20363...|f-9801-0020000933...|680DA2322C87A4E60...|              P|       M|           20070623|       19860701|        Active|       55.18333|        T3432XB| NULL|\n",
      "|7AD3AA1BF5A3AC0C5...|f-9801-1340002540...|49F789BD1A29A408D...|              N|       M|           20180906|       19820607|        Active|            0.0|      LE5573XC1|E5573|\n",
      "|7AE01726A5E9C805F...| f-9801-000166136986|1A47E93370BAAA0F1...|              P|       F|           20230316|       19860920|        Active|          11.45|      UE5432XC4|E5432|\n",
      "|7AE05E7D166A4356A...| f-9801-000147812677|D85CAE397E9EC15D0...|              P|       F|           20220612|       20030518|        Active|   40926.616678|      UT4514XC0|T4514|\n",
      "|7AEDE41A8134355F5...|                NULL|57443044472587DA8...|              N|       M|           20231227|       19880825|          Hard|            0.0|      LT6690XC1|T6690|\n",
      "|7AF6B5A76AB91B6BF...| f-9801-000096131201|1477A0FB34DF6061B...|              P|       F|           20171226|       19811127|        Active|        0.08333|      UT7784XB4|T7784|\n",
      "|7B08B12E2E902C4F4...| f-9801-000132073426|A9148AA558C8A6668...|              P|       M|           20191104|       19880321|        Active|            2.0|        E1594XA|E1594|\n",
      "|7B24E8494065A71AA...| f-9801-000155630137|0D1EF5593D406F69A...|              N|       F|           20230216|       20000415|        Active|            0.0|      UN4504XB4|N4504|\n",
      "|7B392D126049FB5A8...| f-9801-000094734976|2C613E78F43A667B1...|              P|       M|           20171030|       19591223|        Active|  100005.066662|        H1279XA|H1279|\n",
      "|7B4A3B476BDCCB047...| f-9801-000103074314|275E00D11ABE5D42E...|              P|       F|           20171018|       19800630|        Active|            0.0|      DE2346XB1|E2346|\n",
      "|7B4EA1179318B55EA...| f-9801-000091300473|7F989F9DA9565D513...|              P|       F|           20170703|       19840528|        Active|  107755.816667|      UE5763XC1|E5763|\n",
      "|7B51D1505B4474BA4...| f-9801-000147539035|084B6AC8D9A7393A0...|              P|       M|           20200418|       19510830|        Active|   57064.766666|        T4685XB|T4685|\n",
      "|7B5F9874B6A42058B...| f-9801-000141157503|1EA00D920F7CFB747...|              P|       M|           20210911|       19910707|        Active|       8.566668|      LE2930XA7|E2930|\n",
      "|7B6A66BF28A9845F9...| f-9801-000104589250|BACDC2884C0FA068C...|              P|       M|           20160511|       19930201|        Active|   49779.683335|           NULL| NULL|\n",
      "+--------------------+--------------------+--------------------+---------------+--------+-------------------+---------------+--------------+---------------+---------------+-----+\n",
      "only showing top 20 rows\n",
      "\n"
     ]
    }
   ],
   "source": [
    "user = custom_read_parquet(spark=spark, config=config, key=\"user\", month=month)\n",
    "user.show()"
   ]
  },
  {
   "cell_type": "code",
   "execution_count": 22,
   "metadata": {},
   "outputs": [
    {
     "data": {
      "text/plain": [
       "gender_v\n",
       "M           602268\n",
       "F           370249\n",
       "N            25989\n",
       "Name: count, dtype: int64"
      ]
     },
     "execution_count": 22,
     "metadata": {},
     "output_type": "execute_result"
    }
   ],
   "source": [
    "user.select(\"gender_v\").toPandas().value_counts()"
   ]
  },
  {
   "cell_type": "markdown",
   "metadata": {},
   "source": [
    "# labeling"
   ]
  },
  {
   "cell_type": "code",
   "execution_count": 23,
   "metadata": {},
   "outputs": [],
   "source": [
    "from label_preparation import generate_churn_label\n",
    "from data_preparation import generate_dataset"
   ]
  },
  {
   "cell_type": "code",
   "execution_count": 24,
   "metadata": {},
   "outputs": [
    {
     "name": "stderr",
     "output_type": "stream",
     "text": [
      "[Stage 78:======>                                                 (2 + 15) / 17]\r"
     ]
    },
    {
     "name": "stdout",
     "output_type": "stream",
     "text": [
      "+--------------------+-----+--------------------+-------------------+----------------------+---------------------+------------+---------------------+--------------------+-------------+------------------+-----------------+---------------+--------+--------------+---------------+\n",
      "|              bib_id|label|AveragePackageAmount|MedianPackageAmount|AveragePackageDuration|MedianPackageDuration|CountPackage|AverageRechargeAmount|MedianRechargeAmount|CountRecharge|               age|registration_year|contract_type_v|gender_v|ability_status|account_balance|\n",
      "+--------------------+-----+--------------------+-------------------+----------------------+---------------------+------------+---------------------+--------------------+-------------+------------------+-----------------+---------------+--------+--------------+---------------+\n",
      "|0000CFC78AA4CD390...|    0|            213750.0|           213750.0|                  30.0|                 30.0|           2|             100000.0|            100000.0|            2|28.145106091718002|             2018|              P|       M|        Active|    89496.83334|\n",
      "|00012757FE6A9C3B7...|    0|            100000.0|           100000.0|                  10.0|                 10.0|           1|    83333.33333333333|            100000.0|            3|46.450376454483234|             2016|              P|       F|        Active|   20000.199992|\n",
      "|000171D81E79BD61E...|    0|            380000.0|           380000.0|                  30.0|                 30.0|           3|                 NULL|                NULL|         NULL|37.275838466803556|             2018|              N|       M|        Active|            0.0|\n",
      "|0002C72A7BC77E249...|    0|           1978000.0|          1978000.0|                  30.0|                 30.0|           1|                 NULL|                NULL|         NULL| 37.01300479123888|             2021|              N|       N|        Active|            0.0|\n",
      "|00051CBABA49DBDD9...|    0|                NULL|               NULL|                  NULL|                 NULL|        NULL|              33000.0|             50000.0|            5|27.408624229979466|             2017|              P|       F|        Active|       5.899993|\n",
      "|0005E18504583D452...|    1|                NULL|               NULL|                  NULL|                 NULL|        NULL|    83333.33333333333|            100000.0|            3| 33.17180013689254|             2011|              P|       N|        Active|   137690.04083|\n",
      "|00071CB1E187FDEFC...|    0|            485000.0|           485000.0|                  60.0|                 60.0|           1|            124999.75|            136363.5|            4| 36.96098562628337|             2023|              P|       M|        Active|   31673.183334|\n",
      "|000C0B809B8E98820...|    0|             61660.0|                0.0|                   4.6|                  1.0|           5|              50000.0|             50000.0|            1| 29.94113620807666|             2021|              P|       M|        Active|   26716.016667|\n",
      "|000D047FFEFE03025...|    0|            485000.0|           485000.0|                  60.0|                 60.0|           1|    78181.83333333333|             99545.5|            6|26.477754962354553|             2019|              P|       F|        Active|   43108.450004|\n",
      "|000D23FAA9CE043AC...|    0|            380000.0|           380000.0|                  30.0|                 30.0|           2|    46567.34482758621|             50000.0|           29|25.609856262833677|             2022|              P|       F|        Active|  115750.933377|\n",
      "|001719B17F83C6D25...|    0|           1144200.0|          1656000.0|                  30.0|                 30.0|           3|             500000.0|            500000.0|            8| 28.11498973305955|             2014|              P|       M|        Active| 1032043.133328|\n",
      "|001915E85645E5E2C...|    0|            329660.0|           120600.0|                  24.2|                 30.0|           5|             727273.0|            727273.0|            1| 35.30184804928131|             2015|              P|       F|        Active|    5385.866622|\n",
      "|001BC3B1603A4A5D8...|    1|                NULL|               NULL|                  NULL|                 NULL|        NULL|              50000.0|             50000.0|            1| 56.41067761806981|             2024|              P|       F|        Active|   10608.583335|\n",
      "|001FAA900DA4B4C2C...|    0|            962000.0|           962000.0|                  30.0|                 30.0|           1|                 NULL|                NULL|         NULL|23.567419575633128|             2019|              P|       M|        Active|   40121.566665|\n",
      "|00204D19AFA17B862...|    0|            485000.0|           485000.0|                  60.0|                 60.0|           2|             181818.0|            181818.0|            6| 41.42915811088296|             2022|              P|       M|        Active|  302229.433339|\n",
      "|00205F24B17A4F2C0...|    0|            242000.0|           242000.0|                   7.0|                  7.0|           3|    72727.44444444444|             45455.0|            9|61.437371663244356|             2012|              P|       M|        Active|       6.816667|\n",
      "|002205F6BFCBF0168...|    0|            245000.0|           245000.0|                  30.0|                 30.0|           1|              32727.0|             32727.0|            2|37.555099247091036|             2010|              P|       M|        Active|   26380.250001|\n",
      "|0024C50C194EEC95F...|    0|  253633.33333333334|           155300.0|                  40.0|                 30.0|           6|              50000.0|             50000.0|            1| 41.29774127310061|             2014|              P|       F|        Active|   28759.350004|\n",
      "|0026A4FFD577699DC...|    0|            835000.0|           835000.0|                 120.0|                120.0|           2|                 NULL|                NULL|         NULL| 56.77754962354552|             2017|              P|       M|        Active|  114278.816663|\n",
      "|00291C55C725698C4...|    1|  51857.142857142855|            36500.0|    0.8571428571428571|                  1.0|           7|                 NULL|                NULL|         NULL| 48.01368925393566|             2020|              N|       M|          Soft|            0.0|\n",
      "+--------------------+-----+--------------------+-------------------+----------------------+---------------------+------------+---------------------+--------------------+-------------+------------------+-----------------+---------------+--------+--------------+---------------+\n",
      "only showing top 20 rows\n",
      "\n"
     ]
    },
    {
     "name": "stderr",
     "output_type": "stream",
     "text": [
      "                                                                                \r"
     ]
    }
   ],
   "source": [
    "churn_label_df = generate_churn_label(spark, config, month, next_month)\n",
    "df = generate_dataset(spark, config, month, churn_label_df)\n",
    "df.show()"
   ]
  },
  {
   "cell_type": "code",
   "execution_count": null,
   "metadata": {},
   "outputs": [],
   "source": []
  }
 ],
 "metadata": {
  "kernelspec": {
   "display_name": "data_stream",
   "language": "python",
   "name": "python3"
  },
  "language_info": {
   "codemirror_mode": {
    "name": "ipython",
    "version": 3
   },
   "file_extension": ".py",
   "mimetype": "text/x-python",
   "name": "python",
   "nbconvert_exporter": "python",
   "pygments_lexer": "ipython3",
   "version": "3.10.12"
  }
 },
 "nbformat": 4,
 "nbformat_minor": 2
}
