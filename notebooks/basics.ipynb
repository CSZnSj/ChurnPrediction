{
 "cells": [
  {
   "cell_type": "code",
   "execution_count": 1,
   "metadata": {},
   "outputs": [],
   "source": [
    "from utils import (\n",
    "    create_spark_session, load_config, custom_read_parquet,\n",
    "    count_nulls, custom_count_distinct,\n",
    "    custom_to_timestamp, custom_max, custom_min,\n",
    "    custom_group_by, plot_column_distribution, plot_aggregated_by_time, \n",
    "    categorize_loan_amount\n",
    ")\n",
    "import numpy as np\n",
    "import pandas as pd\n",
    "import matplotlib.pyplot as plt\n",
    "import seaborn as sns"
   ]
  },
  {
   "cell_type": "code",
   "execution_count": 2,
   "metadata": {},
   "outputs": [
    {
     "name": "stderr",
     "output_type": "stream",
     "text": [
      "24/08/27 19:51:22 WARN Utils: Your hostname, sajjad-Legion-5-15ACH6 resolves to a loopback address: 127.0.1.1; using 10.218.52.77 instead (on interface eno1)\n",
      "24/08/27 19:51:22 WARN Utils: Set SPARK_LOCAL_IP if you need to bind to another address\n",
      "Setting default log level to \"WARN\".\n",
      "To adjust logging level use sc.setLogLevel(newLevel). For SparkR, use setLogLevel(newLevel).\n",
      "24/08/27 19:51:22 WARN NativeCodeLoader: Unable to load native-hadoop library for your platform... using builtin-java classes where applicable\n"
     ]
    }
   ],
   "source": [
    "spark = create_spark_session()\n",
    "config = load_config()\n",
    "month = config[\"months\"][0]"
   ]
  },
  {
   "cell_type": "markdown",
   "metadata": {},
   "source": [
    "# assign"
   ]
  },
  {
   "cell_type": "code",
   "execution_count": 3,
   "metadata": {},
   "outputs": [
    {
     "name": "stdout",
     "output_type": "stream",
     "text": [
      "+--------------------+--------+-------------------+--------------------+---------------+-----------+-----------------+\n",
      "|              bib_id|date_key|            fake_id|            nid_hash|        loan_id|loan_amount|   date_timestamp|\n",
      "+--------------------+--------+-------------------+--------------------+---------------+-----------+-----------------+\n",
      "|A81565F025E839BAA...|20240428|f-9801-000143526223|D522B41B28781AE6A...|404283785789014|    10000.0|20240428 12:57:06|\n",
      "|A81565F025E839BAA...|20240428|f-9801-000143526223|D522B41B28781AE6A...|404283786107933|    10000.0|20240428 14:45:06|\n",
      "|A81565F025E839BAA...|20240428|f-9801-000143526223|D522B41B28781AE6A...|404283785277888|    10000.0|20240428 09:51:05|\n",
      "|A81565F025E839BAA...|20240428|f-9801-000143526223|D522B41B28781AE6A...|404283785354149|    10000.0|20240428 10:25:15|\n",
      "|A81565F025E839BAA...|20240428|f-9801-000143526223|D522B41B28781AE6A...|404283785552861|    10000.0|20240428 11:40:13|\n",
      "|A81565F025E839BAA...|20240428|f-9801-000143526223|D522B41B28781AE6A...|404283785260872|    10000.0|20240428 09:42:10|\n",
      "|A81565F025E839BAA...|20240519|f-9801-000143526223|D522B41B28781AE6A...|405193850514008|    10000.0|20240519 14:14:21|\n",
      "|A81773BCDFA8C4BAD...|20240420|f-9801-000089836512|9B402A8B9567E90AF...|404203761747574|    10000.0|20240420 13:16:19|\n",
      "|A81773BCDFA8C4BAD...|20240422|f-9801-000089836512|9B402A8B9567E90AF...|404223769476675|    10000.0|20240422 22:43:17|\n",
      "|A81773BCDFA8C4BAD...|20240424|f-9801-000089836512|9B402A8B9567E90AF...|404243773523033|    10000.0|20240424 11:05:22|\n",
      "|A81773BCDFA8C4BAD...|20240423|f-9801-000089836512|9B402A8B9567E90AF...|404233770468343|    10000.0|20240423 11:05:08|\n",
      "|A81773BCDFA8C4BAD...|20240423|f-9801-000089836512|9B402A8B9567E90AF...|404233770500034|    10000.0|20240423 11:17:13|\n",
      "|A829410E5F19EED26...|20240501|f-9801-000099300836|E07C854CE9C5AB459...|405013794628281|    10000.0|20240501 09:38:11|\n",
      "|A829410E5F19EED26...|20240427|f-9801-000099300836|E07C854CE9C5AB459...|404273781664778|    10000.0|20240427 01:08:13|\n",
      "|A829410E5F19EED26...|20240428|f-9801-000099300836|E07C854CE9C5AB459...|404283784863769|    10000.0|20240428 01:25:06|\n",
      "|A829410E5F19EED26...|20240519|f-9801-000099300836|E07C854CE9C5AB459...|405193850393446|    10000.0|20240519 13:34:23|\n",
      "|A829410E5F19EED26...|20240420|f-9801-000099300836|E07C854CE9C5AB459...|404203761785692|    10000.0|20240420 13:29:10|\n",
      "|A829410E5F19EED26...|20240425|f-9801-000099300836|E07C854CE9C5AB459...|404253778337449|    10000.0|20240425 21:11:12|\n",
      "|A829410E5F19EED26...|20240428|f-9801-000099300836|E07C854CE9C5AB459...|404293787742204|    10000.0|20240428 23:37:07|\n",
      "|A829410E5F19EED26...|20240519|f-9801-000099300836|E07C854CE9C5AB459...|405193851719470|    10000.0|20240519 20:30:14|\n",
      "+--------------------+--------+-------------------+--------------------+---------------+-----------+-----------------+\n",
      "only showing top 20 rows\n",
      "\n"
     ]
    }
   ],
   "source": [
    "assign = custom_read_parquet(spark, config, \"loan_assign\", month)\n",
    "assign.show()"
   ]
  },
  {
   "cell_type": "code",
   "execution_count": 4,
   "metadata": {},
   "outputs": [
    {
     "name": "stdout",
     "output_type": "stream",
     "text": [
      "root\n",
      " |-- bib_id: string (nullable = true)\n",
      " |-- date_key: string (nullable = true)\n",
      " |-- fake_id: string (nullable = true)\n",
      " |-- nid_hash: string (nullable = true)\n",
      " |-- loan_id: string (nullable = true)\n",
      " |-- loan_amount: double (nullable = true)\n",
      " |-- date_timestamp: string (nullable = true)\n",
      "\n"
     ]
    }
   ],
   "source": [
    "assign.printSchema()"
   ]
  },
  {
   "cell_type": "code",
   "execution_count": 5,
   "metadata": {},
   "outputs": [
    {
     "name": "stdout",
     "output_type": "stream",
     "text": [
      "number of null value in column bib_id : 0\n",
      "number of null value in column date_key : 0\n",
      "number of null value in column fake_id : 354\n",
      "number of null value in column nid_hash : 0\n",
      "number of null value in column loan_id : 0\n",
      "number of null value in column loan_amount : 0\n",
      "number of null value in column date_timestamp : 0\n"
     ]
    }
   ],
   "source": [
    "for col_name in assign.columns:\n",
    "    print(f\"number of null value in column {col_name} : {count_nulls(df = assign, col_name=col_name)}\")"
   ]
  },
  {
   "cell_type": "code",
   "execution_count": 6,
   "metadata": {},
   "outputs": [
    {
     "name": "stderr",
     "output_type": "stream",
     "text": [
      "[Stage 32:=================>                                      (5 + 11) / 16]\r"
     ]
    },
    {
     "name": "stdout",
     "output_type": "stream",
     "text": [
      "number of samples in DataFrame 'assign': 994924 \n",
      "number of distinct values in column 'bib_id': 71608 \n",
      "number of distinct values in column 'nid_hash': 71523\n"
     ]
    },
    {
     "name": "stderr",
     "output_type": "stream",
     "text": [
      "                                                                                \r"
     ]
    }
   ],
   "source": [
    "print(\n",
    "    f\"number of samples in DataFrame 'assign': {assign.count()}\",\n",
    "    f\"\\nnumber of distinct values in column 'bib_id': {custom_count_distinct(df=assign, col_name='bib_id')}\",\n",
    "    f\"\\nnumber of distinct values in column 'nid_hash': {custom_count_distinct(df=assign, col_name='nid_hash')}\"\n",
    ")"
   ]
  },
  {
   "cell_type": "code",
   "execution_count": 7,
   "metadata": {},
   "outputs": [
    {
     "name": "stderr",
     "output_type": "stream",
     "text": [
      "[Stage 38:==========================================>             (12 + 4) / 16]\r"
     ]
    },
    {
     "name": "stdout",
     "output_type": "stream",
     "text": [
      "+--------------------+---------------------+\n",
      "|            nid_hash|count_distinct_bib_id|\n",
      "+--------------------+---------------------+\n",
      "|79BC87C9F3AF92B07...|                    2|\n",
      "|2F15656935C6A1884...|                    2|\n",
      "|B176CA25111FA446B...|                    2|\n",
      "|6C6049E166E266DE6...|                    2|\n",
      "|02988F433771D75F4...|                    2|\n",
      "|19CE179E29F1EF5D5...|                    2|\n",
      "|BDA123486587CEAD0...|                    2|\n",
      "|F308B92D0FEA62656...|                    2|\n",
      "|A20A97F1ADA5668B5...|                    2|\n",
      "|EE82644DBBCFE29B0...|                    2|\n",
      "|506D80BB9A9C2951D...|                    2|\n",
      "|5D6D15145F90A4542...|                    2|\n",
      "|86D6FA78AE91CE967...|                    2|\n",
      "|AC6FC498A2A900627...|                    2|\n",
      "|58B0B10A5F4735E17...|                    2|\n",
      "|4DEB46C1ACAF449CF...|                    2|\n",
      "|5D18DF123B41A4439...|                    2|\n",
      "|CDF4DF1C67B2084BF...|                    2|\n",
      "|C8AF079CDCC7FC052...|                    2|\n",
      "|152DB4F62D8C7458D...|                    2|\n",
      "+--------------------+---------------------+\n",
      "only showing top 20 rows\n",
      "\n"
     ]
    },
    {
     "name": "stderr",
     "output_type": "stream",
     "text": [
      "                                                                                \r"
     ]
    }
   ],
   "source": [
    "custom_group_by(df=assign, group_by_col=\"nid_hash\", agg_col=\"bib_id\", agg_func=\"count_distinct\", alias_name = \"count_distinct_bib_id\", sort_order='desc').show()"
   ]
  },
  {
   "cell_type": "code",
   "execution_count": 8,
   "metadata": {},
   "outputs": [
    {
     "name": "stderr",
     "output_type": "stream",
     "text": [
      "                                                                                \r"
     ]
    },
    {
     "name": "stdout",
     "output_type": "stream",
     "text": [
      "max_date_timestamp : 2024-05-20 23:59:58 \n",
      "mindate_timestamp : 2024-04-20 00:00:05\n"
     ]
    }
   ],
   "source": [
    "col_name = \"date_timestamp\"\n",
    "assign = custom_to_timestamp(assign, col_name)\n",
    "print(\n",
    "    f\"max_{col_name} : {custom_max(assign, col_name)}\",\n",
    "    f\"\\nmin{col_name} : {custom_min(assign, col_name)}\",\n",
    ")\n"
   ]
  },
  {
   "cell_type": "code",
   "execution_count": 9,
   "metadata": {},
   "outputs": [
    {
     "name": "stdout",
     "output_type": "stream",
     "text": [
      "max_loan_amount : 179167.0 \n",
      "minloan_amount : 5000.0\n"
     ]
    }
   ],
   "source": [
    "col_name = \"loan_amount\"\n",
    "print(\n",
    "    f\"max_{col_name} : {custom_max(assign, col_name)}\",\n",
    "    f\"\\nmin{col_name} : {custom_min(assign, col_name)}\",\n",
    ")"
   ]
  },
  {
   "cell_type": "code",
   "execution_count": 10,
   "metadata": {},
   "outputs": [
    {
     "name": "stderr",
     "output_type": "stream",
     "text": [
      "[Stage 56:===>                                                    (1 + 15) / 16]\r"
     ]
    },
    {
     "name": "stdout",
     "output_type": "stream",
     "text": [
      "+--------------------+--------------------------------+\n",
      "|            nid_hash|SumAggregated_loan_amount_by_nid|\n",
      "+--------------------+--------------------------------+\n",
      "|C0C600B914418408E...|                       9600000.0|\n",
      "|A8B419013F4F3126A...|                       7410000.0|\n",
      "|5A4E68534605CFAAC...|                       7295042.0|\n",
      "|77AD72BE45556D48E...|                       6653842.0|\n",
      "|17A6DAF2E6B68F7B7...|                       5660000.0|\n",
      "|E13504DE230D651B1...|                       5650000.0|\n",
      "|20F9EA15ACF5DA8F7...|                       5515000.0|\n",
      "|792676B4A579C0914...|                       5460000.0|\n",
      "|C064331039138D2ED...|                       5070000.0|\n",
      "|3AC5EA35124CE6275...|                       4905000.0|\n",
      "|F807CD00B7C54F13C...|                       4900000.0|\n",
      "|77C5358360FB9FBA9...|                       4881667.0|\n",
      "|474959DA2DC2C0CDD...|                       4857357.0|\n",
      "|1C65A47C9315C7960...|                       4804998.0|\n",
      "|934300F83D266F9FA...|                       4800000.0|\n",
      "|CA752705EAA7B6039...|                       4599166.0|\n",
      "|4DCC5723AFB2DA141...|                       4577510.0|\n",
      "|136AA751CE5E1118D...|                       4529006.0|\n",
      "|1615E247449E83271...|                       4505000.0|\n",
      "|90F7A1F8B88CA8C52...|                       4475000.0|\n",
      "+--------------------+--------------------------------+\n",
      "only showing top 20 rows\n",
      "\n"
     ]
    },
    {
     "name": "stderr",
     "output_type": "stream",
     "text": [
      "                                                                                \r"
     ]
    }
   ],
   "source": [
    "aggregated_nid = custom_group_by(df=assign, group_by_col=\"nid_hash\", agg_col=\"loan_amount\", agg_func=\"sum\", alias_name=\"SumAggregated_loan_amount_by_nid\", sort_order='desc')\n",
    "aggregated_nid.show()"
   ]
  },
  {
   "cell_type": "code",
   "execution_count": 11,
   "metadata": {},
   "outputs": [
    {
     "name": "stderr",
     "output_type": "stream",
     "text": [
      "                                                                                \r"
     ]
    },
    {
     "name": "stdout",
     "output_type": "stream",
     "text": [
      "Figure saved to: output/HistPlot_of_SumAggregated_loan_amount_by_nid__month_38.png\n"
     ]
    }
   ],
   "source": [
    "plot_column_distribution(col_df=aggregated_nid.select(\"SumAggregated_loan_amount_by_nid\"), plot_type='hist', month=month, x=\"SumAggregated_loan_amount_by_nid\")"
   ]
  },
  {
   "cell_type": "code",
   "execution_count": 12,
   "metadata": {},
   "outputs": [
    {
     "name": "stdout",
     "output_type": "stream",
     "text": [
      "Figure saved to: output/CountPlot_of_loan_amount__month_38.png\n"
     ]
    }
   ],
   "source": [
    "plot_column_distribution(col_df=assign.select(\"loan_amount\"), plot_type='count', month=month, x=\"loan_amount\")"
   ]
  },
  {
   "cell_type": "code",
   "execution_count": 13,
   "metadata": {},
   "outputs": [
    {
     "name": "stdout",
     "output_type": "stream",
     "text": [
      "Figure saved to: output/LinePlot_of_SumAggregated_loan_amount_byHour__month_38.png\n",
      "Figure saved to: output/LinePlot_of_SumAggregated_loan_amount_byDayOfWeek__month_38.png\n",
      "Figure saved to: output/LinePlot_of_SumAggregated_loan_amount_byDayOfMonth__month_38.png\n"
     ]
    }
   ],
   "source": [
    "plot_aggregated_by_time(df=assign, timestamp_column=\"date_timestamp\", agg_col=\"loan_amount\", month=month)"
   ]
  },
  {
   "cell_type": "code",
   "execution_count": 14,
   "metadata": {},
   "outputs": [
    {
     "name": "stdout",
     "output_type": "stream",
     "text": [
      "Figure saved to: output/CountPlot_of_loan_category__month_38.png\n"
     ]
    }
   ],
   "source": [
    "assign = categorize_loan_amount(df=assign, col_name=\"loan_amount\")\n",
    "plot_column_distribution(col_df=assign.select(\"loan_category\"), plot_type='count', month=month, x=\"loan_category\")\n"
   ]
  },
  {
   "cell_type": "code",
   "execution_count": null,
   "metadata": {},
   "outputs": [],
   "source": []
  }
 ],
 "metadata": {
  "kernelspec": {
   "display_name": "data_stream",
   "language": "python",
   "name": "python3"
  },
  "language_info": {
   "codemirror_mode": {
    "name": "ipython",
    "version": 3
   },
   "file_extension": ".py",
   "mimetype": "text/x-python",
   "name": "python",
   "nbconvert_exporter": "python",
   "pygments_lexer": "ipython3",
   "version": "3.10.12"
  }
 },
 "nbformat": 4,
 "nbformat_minor": 2
}
