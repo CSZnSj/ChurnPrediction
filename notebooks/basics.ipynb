{
 "cells": [
  {
   "cell_type": "code",
   "execution_count": 1,
   "metadata": {},
   "outputs": [],
   "source": [
    "from utils import (\n",
    "     create_spark_session, load_config, custom_read_parquet,\n",
    ")\n",
    "\n",
    "from plot_utils import (\n",
    "    count_nulls, custom_to_timestamp,\n",
    "    plot_column_distribution, \n",
    "    plot_aggregated_by_time, \n",
    "    categorize,\n",
    "    plot_analysis_of_loan_recovery,\n",
    "    plot_tops,\n",
    "    categorize_time_difference\n",
    ")\n",
    "\n",
    "from pyspark.sql.functions import sum, col"
   ]
  },
  {
   "cell_type": "code",
   "execution_count": 2,
   "metadata": {},
   "outputs": [
    {
     "name": "stderr",
     "output_type": "stream",
     "text": [
      "24/08/31 17:16:23 WARN Utils: Your hostname, sajjad-Legion-5-15ACH6 resolves to a loopback address: 127.0.1.1; using 10.218.52.77 instead (on interface eno1)\n",
      "24/08/31 17:16:23 WARN Utils: Set SPARK_LOCAL_IP if you need to bind to another address\n",
      "Setting default log level to \"WARN\".\n",
      "To adjust logging level use sc.setLogLevel(newLevel). For SparkR, use setLogLevel(newLevel).\n",
      "24/08/31 17:16:24 WARN NativeCodeLoader: Unable to load native-hadoop library for your platform... using builtin-java classes where applicable\n"
     ]
    }
   ],
   "source": [
    "spark = create_spark_session()\n",
    "config = load_config()\n",
    "month_index = 1\n",
    "month = config[\"months\"][month_index]\n",
    "next_month = config[\"months\"][month_index+1]"
   ]
  },
  {
   "cell_type": "markdown",
   "metadata": {},
   "source": [
    "# assign"
   ]
  },
  {
   "cell_type": "code",
   "execution_count": 3,
   "metadata": {},
   "outputs": [
    {
     "name": "stdout",
     "output_type": "stream",
     "text": [
      "+--------------------+--------+-------------------+--------------------+---------------+-----------+-------------------+\n",
      "|              bib_id|date_key|            fake_id|            nid_hash|        loan_id|loan_amount|     date_timestamp|\n",
      "+--------------------+--------+-------------------+--------------------+---------------+-----------+-------------------+\n",
      "|C6117AC7815F23E83...|20240615|f-9801-000113957498|32A8F47494EA49EAD...|406153931232002|    10000.0|2024-06-15 10:20:21|\n",
      "|C6117AC7815F23E83...|20240522|f-9801-000113957498|32A8F47494EA49EAD...|405223859051377|    10000.0|2024-05-22 06:50:04|\n",
      "|C6117AC7815F23E83...|20240601|f-9801-000113957498|32A8F47494EA49EAD...|406013890917789|    10000.0|2024-06-01 22:41:10|\n",
      "|C6117AC7815F23E83...|20240523|f-9801-000113957498|32A8F47494EA49EAD...|405233864172865|    20000.0|2024-05-23 21:25:20|\n",
      "|C6117AC7815F23E83...|20240614|f-9801-000113957498|32A8F47494EA49EAD...|406143929540794|    10000.0|2024-06-14 18:46:05|\n",
      "|C6117AC7815F23E83...|20240614|f-9801-000113957498|32A8F47494EA49EAD...|406153930401365|    10000.0|2024-06-14 23:18:15|\n",
      "|C6117AC7815F23E83...|20240601|f-9801-000113957498|32A8F47494EA49EAD...|406013889376667|    50000.0|2024-06-01 14:11:38|\n",
      "|C6117AC7815F23E83...|20240615|f-9801-000113957498|32A8F47494EA49EAD...|406153933423984|    50000.0|2024-06-15 21:47:11|\n",
      "|C6117AC7815F23E83...|20240615|f-9801-000113957498|32A8F47494EA49EAD...|406153931823177|    10000.0|2024-06-15 13:24:20|\n",
      "|C6117AC7815F23E83...|20240614|f-9801-000113957498|32A8F47494EA49EAD...|406143928187718|    10000.0|2024-06-14 09:45:04|\n",
      "|C6117AC7815F23E83...|20240602|f-9801-000113957498|32A8F47494EA49EAD...|406023894002193|   100000.0|2024-06-02 22:31:04|\n",
      "|C6117AC7815F23E83...|20240531|f-9801-000113957498|32A8F47494EA49EAD...|405313886151977|    10000.0|2024-05-31 12:19:08|\n",
      "|C6117AC7815F23E83...|20240608|f-9801-000113957498|32A8F47494EA49EAD...|406083911229866|    10000.0|2024-06-08 20:11:26|\n",
      "|C6117AC7815F23E83...|20240608|f-9801-000113957498|32A8F47494EA49EAD...|406083911605881|    10000.0|2024-06-08 21:58:22|\n",
      "|C6117AC7815F23E83...|20240531|f-9801-000113957498|32A8F47494EA49EAD...|405313887637836|     5000.0|2024-05-31 21:41:55|\n",
      "|C6117AC7815F23E83...|20240609|f-9801-000113957498|32A8F47494EA49EAD...|406093912434437|    10000.0|2024-06-09 08:46:17|\n",
      "|C6117AC7815F23E83...|20240608|f-9801-000113957498|32A8F47494EA49EAD...|406083909649483|    10000.0|2024-06-08 11:26:33|\n",
      "|C6117AC7815F23E83...|20240609|f-9801-000113957498|32A8F47494EA49EAD...|406093914506662|    10000.0|2024-06-09 20:53:26|\n",
      "|C6117AC7815F23E83...|20240605|f-9801-000113957498|32A8F47494EA49EAD...|406053900474045|    10000.0|2024-06-05 09:20:13|\n",
      "|C6117AC7815F23E83...|20240616|f-9801-000113957498|32A8F47494EA49EAD...|406163935828580|    50000.0|2024-06-16 17:56:33|\n",
      "+--------------------+--------+-------------------+--------------------+---------------+-----------+-------------------+\n",
      "only showing top 20 rows\n",
      "\n"
     ]
    }
   ],
   "source": [
    "assign = custom_read_parquet(spark=spark, config=config, key=\"loan_assign\", month=month)\n",
    "assign = custom_to_timestamp(df=assign, col_name=\"date_timestamp\")\n",
    "assign.show()"
   ]
  },
  {
   "cell_type": "code",
   "execution_count": 4,
   "metadata": {},
   "outputs": [
    {
     "name": "stdout",
     "output_type": "stream",
     "text": [
      "root\n",
      " |-- bib_id: string (nullable = true)\n",
      " |-- date_key: string (nullable = true)\n",
      " |-- fake_id: string (nullable = true)\n",
      " |-- nid_hash: string (nullable = true)\n",
      " |-- loan_id: string (nullable = true)\n",
      " |-- loan_amount: double (nullable = true)\n",
      " |-- date_timestamp: timestamp (nullable = true)\n",
      "\n"
     ]
    }
   ],
   "source": [
    "assign.printSchema()"
   ]
  },
  {
   "cell_type": "code",
   "execution_count": 5,
   "metadata": {},
   "outputs": [
    {
     "name": "stdout",
     "output_type": "stream",
     "text": [
      "number of null value in column bib_id : 0\n",
      "number of null value in column date_key : 0\n",
      "number of null value in column fake_id : 420\n",
      "number of null value in column nid_hash : 0\n",
      "number of null value in column loan_id : 0\n",
      "number of null value in column loan_amount : 0\n",
      "number of null value in column date_timestamp : 0\n"
     ]
    },
    {
     "name": "stderr",
     "output_type": "stream",
     "text": [
      "                                                                                \r"
     ]
    }
   ],
   "source": [
    "for col_name in assign.columns:\n",
    "    print(f\"number of null value in column {col_name} : {count_nulls(df = assign, col_name=col_name)}\")"
   ]
  },
  {
   "cell_type": "code",
   "execution_count": 6,
   "metadata": {},
   "outputs": [
    {
     "name": "stdout",
     "output_type": "stream",
     "text": [
      "Figure saved to: output/CountPlot_of_loan_category__month_39.png\n"
     ]
    }
   ],
   "source": [
    "assign = categorize(\n",
    "df=assign, \n",
    "col_name=\"loan_amount\",\n",
    "bins=[float('-inf'), 5000, 10000, 20000, 50000, 100000, float('inf')],\n",
    "labels=[\"VeryLow\", \"5T-10T\", \"10T-20T\", \"20T-50T\", \"50T-100T\", \"Extreme\"],\n",
    "new_column_name=\"loan_category\"\n",
    ")\n",
    "\n",
    "plot_column_distribution(col_df=assign.select(\"loan_category\"), plot_type='count', month=month, x=\"loan_category\")\n"
   ]
  },
  {
   "cell_type": "code",
   "execution_count": 7,
   "metadata": {},
   "outputs": [
    {
     "name": "stderr",
     "output_type": "stream",
     "text": [
      "                                                                                \r"
     ]
    },
    {
     "name": "stdout",
     "output_type": "stream",
     "text": [
      "Figure saved to: output/HistPlot_of_SumAggregated_loan_amount_by_nid__month_39.png\n"
     ]
    }
   ],
   "source": [
    "aggregated_nid = assign.groupBy(\"nid_hash\").agg(sum(col(\"loan_amount\")).alias(\"SumAggregated_loan_amount_by_nid\"))\n",
    "plot_column_distribution(col_df=aggregated_nid.select(\"SumAggregated_loan_amount_by_nid\"), plot_type='hist', month=month, x=\"SumAggregated_loan_amount_by_nid\")\n"
   ]
  },
  {
   "cell_type": "code",
   "execution_count": 8,
   "metadata": {},
   "outputs": [
    {
     "name": "stderr",
     "output_type": "stream",
     "text": [
      "                                                                                \r"
     ]
    },
    {
     "name": "stdout",
     "output_type": "stream",
     "text": [
      "Figure saved to: output/LinePlot_of_SumAggregated_loan_amount_by_Hour__month_39.png\n",
      "Figure saved to: output/LinePlot_of_SumAggregated_loan_amount_by_DayOfWeek__month_39.png\n"
     ]
    },
    {
     "name": "stderr",
     "output_type": "stream",
     "text": [
      "                                                                                \r"
     ]
    },
    {
     "name": "stdout",
     "output_type": "stream",
     "text": [
      "Figure saved to: output/LinePlot_of_SumAggregated_loan_amount_by_DayOfMonth__month_39.png\n"
     ]
    }
   ],
   "source": [
    "plot_aggregated_by_time(df=assign, timestamp_column=\"date_timestamp\", agg_col=\"loan_amount\", month=month)"
   ]
  },
  {
   "cell_type": "markdown",
   "metadata": {},
   "source": [
    "# recovery"
   ]
  },
  {
   "cell_type": "code",
   "execution_count": 9,
   "metadata": {},
   "outputs": [
    {
     "name": "stdout",
     "output_type": "stream",
     "text": [
      "+--------------------+--------+--------------------+--------------------+---------------+-----------+-------------+-------------------+\n",
      "|              bib_id|date_key|             fake_id|            nid_hash|        loan_id|loan_amount|hsdp_recovery|     date_timestamp|\n",
      "+--------------------+--------+--------------------+--------------------+---------------+-----------+-------------+-------------------+\n",
      "|B086DA1A31C0AC9D5...|20240604|f-9801-2260002271...|66D390276DA362AF8...|406043897194116|    10000.0|      10000.0|2024-06-04 23:40:07|\n",
      "|B086DA1A31C0AC9D5...|20240604|f-9801-2260002271...|66D390276DA362AF8...|406033896244618|    10000.0|      10000.0|2024-06-04 23:40:07|\n",
      "|B086DA1A31C0AC9D5...|20240604|f-9801-2260002271...|66D390276DA362AF8...|406013888123422|    10000.0|      10000.0|2024-06-04 23:40:06|\n",
      "|B086DA1A31C0AC9D5...|20240604|f-9801-2260002271...|66D390276DA362AF8...|406013890052938|    10000.0|      10000.0|2024-06-04 23:40:07|\n",
      "|B0F4B9A70CC7B095F...|20240610| f-9801-000147317998|482114E19477CD2B4...|406073907763789|    10000.0|      10000.0|2024-06-10 17:51:06|\n",
      "|B0F4B9A70CC7B095F...|20240607| f-9801-000147317998|482114E19477CD2B4...|406053900741301|    10000.0|      10000.0|2024-06-07 18:08:21|\n",
      "|B0F4B9A70CC7B095F...|20240607| f-9801-000147317998|482114E19477CD2B4...|406053901724555|     5000.0|       5000.0|2024-06-07 18:08:22|\n",
      "|B0F4B9A70CC7B095F...|20240531| f-9801-000147317998|482114E19477CD2B4...|405263872431379|    10000.0|      10000.0|2024-05-31 11:11:34|\n",
      "|B0F4B9A70CC7B095F...|20240531| f-9801-000147317998|482114E19477CD2B4...|405293881882071|     5000.0|       5000.0|2024-05-31 11:11:34|\n",
      "|B0F4B9A70CC7B095F...|20240610| f-9801-000147317998|482114E19477CD2B4...|406093914301573|     5000.0|       5000.0|2024-06-10 17:51:07|\n",
      "|B10F11A70B36157D2...|20240523| f-9801-000095627919|AC2DF520FB6C83118...|405203852905117|   100000.0|     100000.0|2024-05-23 17:32:52|\n",
      "|B10F11A70B36157D2...|20240619| f-9801-000095627919|AC2DF520FB6C83118...|406133925289049|   100000.0|      80909.0|2024-06-19 16:13:05|\n",
      "|B10F11A70B36157D2...|20240607| f-9801-000095627919|AC2DF520FB6C83118...|406043897192466|   100000.0|      90000.0|2024-06-07 19:12:38|\n",
      "|B10F11A70B36157D2...|20240523| f-9801-000095627919|AC2DF520FB6C83118...|405203852906497|   100000.0|     100000.0|2024-05-23 17:32:53|\n",
      "|B10F11A70B36157D2...|20240611| f-9801-000095627919|AC2DF520FB6C83118...|406043897192593|   100000.0|     100000.0|2024-06-11 12:40:12|\n",
      "|B10F11A70B36157D2...|20240604| f-9801-000095627919|AC2DF520FB6C83118...|406013888037223|   100000.0|     100000.0|2024-06-04 01:08:58|\n",
      "|B10F11A70B36157D2...|20240604| f-9801-000095627919|AC2DF520FB6C83118...|406013888033875|   100000.0|     100000.0|2024-06-04 01:08:58|\n",
      "|B10F11A70B36157D2...|20240611| f-9801-000095627919|AC2DF520FB6C83118...|406073908441610|    50000.0|      50000.0|2024-06-11 12:40:13|\n",
      "|B10F11A70B36157D2...|20240611| f-9801-000095627919|AC2DF520FB6C83118...|406083910705272|    20000.0|      20000.0|2024-06-11 12:40:13|\n",
      "|B10F11A70B36157D2...|20240611| f-9801-000095627919|AC2DF520FB6C83118...|406043897192466|   100000.0|      10000.0|2024-06-11 12:40:11|\n",
      "+--------------------+--------+--------------------+--------------------+---------------+-----------+-------------+-------------------+\n",
      "only showing top 20 rows\n",
      "\n"
     ]
    }
   ],
   "source": [
    "recovery = custom_read_parquet(spark=spark, config=config, key=\"loan_recovery\", month=month)\n",
    "recovery = custom_to_timestamp(df=recovery, col_name=\"date_timestamp\")\n",
    "recovery.show()"
   ]
  },
  {
   "cell_type": "code",
   "execution_count": 10,
   "metadata": {},
   "outputs": [
    {
     "data": {
      "text/html": [
       "<div>\n",
       "<style scoped>\n",
       "    .dataframe tbody tr th:only-of-type {\n",
       "        vertical-align: middle;\n",
       "    }\n",
       "\n",
       "    .dataframe tbody tr th {\n",
       "        vertical-align: top;\n",
       "    }\n",
       "\n",
       "    .dataframe thead th {\n",
       "        text-align: right;\n",
       "    }\n",
       "</style>\n",
       "<table border=\"1\" class=\"dataframe\">\n",
       "  <thead>\n",
       "    <tr style=\"text-align: right;\">\n",
       "      <th></th>\n",
       "      <th>bib_id</th>\n",
       "      <th>date_key</th>\n",
       "      <th>fake_id</th>\n",
       "      <th>nid_hash</th>\n",
       "      <th>loan_id</th>\n",
       "      <th>loan_amount</th>\n",
       "      <th>hsdp_recovery</th>\n",
       "      <th>date_timestamp</th>\n",
       "    </tr>\n",
       "  </thead>\n",
       "  <tbody>\n",
       "    <tr>\n",
       "      <th>0</th>\n",
       "      <td>B086DA1A31C0AC9D54578761D27A3D36</td>\n",
       "      <td>20240604</td>\n",
       "      <td>f-9801-22600022713285</td>\n",
       "      <td>66D390276DA362AF812951A3C4D3B2DC</td>\n",
       "      <td>406043897194116</td>\n",
       "      <td>10000.0</td>\n",
       "      <td>10000.0</td>\n",
       "      <td>2024-06-04 23:40:07</td>\n",
       "    </tr>\n",
       "    <tr>\n",
       "      <th>1</th>\n",
       "      <td>B086DA1A31C0AC9D54578761D27A3D36</td>\n",
       "      <td>20240604</td>\n",
       "      <td>f-9801-22600022713285</td>\n",
       "      <td>66D390276DA362AF812951A3C4D3B2DC</td>\n",
       "      <td>406033896244618</td>\n",
       "      <td>10000.0</td>\n",
       "      <td>10000.0</td>\n",
       "      <td>2024-06-04 23:40:07</td>\n",
       "    </tr>\n",
       "    <tr>\n",
       "      <th>2</th>\n",
       "      <td>B086DA1A31C0AC9D54578761D27A3D36</td>\n",
       "      <td>20240604</td>\n",
       "      <td>f-9801-22600022713285</td>\n",
       "      <td>66D390276DA362AF812951A3C4D3B2DC</td>\n",
       "      <td>406013888123422</td>\n",
       "      <td>10000.0</td>\n",
       "      <td>10000.0</td>\n",
       "      <td>2024-06-04 23:40:06</td>\n",
       "    </tr>\n",
       "    <tr>\n",
       "      <th>3</th>\n",
       "      <td>B086DA1A31C0AC9D54578761D27A3D36</td>\n",
       "      <td>20240604</td>\n",
       "      <td>f-9801-22600022713285</td>\n",
       "      <td>66D390276DA362AF812951A3C4D3B2DC</td>\n",
       "      <td>406013890052938</td>\n",
       "      <td>10000.0</td>\n",
       "      <td>10000.0</td>\n",
       "      <td>2024-06-04 23:40:07</td>\n",
       "    </tr>\n",
       "    <tr>\n",
       "      <th>4</th>\n",
       "      <td>B0F4B9A70CC7B095F4A6F068A358F68A</td>\n",
       "      <td>20240610</td>\n",
       "      <td>f-9801-000147317998</td>\n",
       "      <td>482114E19477CD2B4E4A265E744280F6</td>\n",
       "      <td>406073907763789</td>\n",
       "      <td>10000.0</td>\n",
       "      <td>10000.0</td>\n",
       "      <td>2024-06-10 17:51:06</td>\n",
       "    </tr>\n",
       "    <tr>\n",
       "      <th>5</th>\n",
       "      <td>B0F4B9A70CC7B095F4A6F068A358F68A</td>\n",
       "      <td>20240607</td>\n",
       "      <td>f-9801-000147317998</td>\n",
       "      <td>482114E19477CD2B4E4A265E744280F6</td>\n",
       "      <td>406053900741301</td>\n",
       "      <td>10000.0</td>\n",
       "      <td>10000.0</td>\n",
       "      <td>2024-06-07 18:08:21</td>\n",
       "    </tr>\n",
       "    <tr>\n",
       "      <th>6</th>\n",
       "      <td>B0F4B9A70CC7B095F4A6F068A358F68A</td>\n",
       "      <td>20240607</td>\n",
       "      <td>f-9801-000147317998</td>\n",
       "      <td>482114E19477CD2B4E4A265E744280F6</td>\n",
       "      <td>406053901724555</td>\n",
       "      <td>5000.0</td>\n",
       "      <td>5000.0</td>\n",
       "      <td>2024-06-07 18:08:22</td>\n",
       "    </tr>\n",
       "    <tr>\n",
       "      <th>7</th>\n",
       "      <td>B0F4B9A70CC7B095F4A6F068A358F68A</td>\n",
       "      <td>20240531</td>\n",
       "      <td>f-9801-000147317998</td>\n",
       "      <td>482114E19477CD2B4E4A265E744280F6</td>\n",
       "      <td>405263872431379</td>\n",
       "      <td>10000.0</td>\n",
       "      <td>10000.0</td>\n",
       "      <td>2024-05-31 11:11:34</td>\n",
       "    </tr>\n",
       "    <tr>\n",
       "      <th>8</th>\n",
       "      <td>B0F4B9A70CC7B095F4A6F068A358F68A</td>\n",
       "      <td>20240531</td>\n",
       "      <td>f-9801-000147317998</td>\n",
       "      <td>482114E19477CD2B4E4A265E744280F6</td>\n",
       "      <td>405293881882071</td>\n",
       "      <td>5000.0</td>\n",
       "      <td>5000.0</td>\n",
       "      <td>2024-05-31 11:11:34</td>\n",
       "    </tr>\n",
       "    <tr>\n",
       "      <th>9</th>\n",
       "      <td>B0F4B9A70CC7B095F4A6F068A358F68A</td>\n",
       "      <td>20240610</td>\n",
       "      <td>f-9801-000147317998</td>\n",
       "      <td>482114E19477CD2B4E4A265E744280F6</td>\n",
       "      <td>406093914301573</td>\n",
       "      <td>5000.0</td>\n",
       "      <td>5000.0</td>\n",
       "      <td>2024-06-10 17:51:07</td>\n",
       "    </tr>\n",
       "    <tr>\n",
       "      <th>10</th>\n",
       "      <td>B10F11A70B36157D2D5694229471758B</td>\n",
       "      <td>20240523</td>\n",
       "      <td>f-9801-000095627919</td>\n",
       "      <td>AC2DF520FB6C8311864521A51836D3BC</td>\n",
       "      <td>405203852905117</td>\n",
       "      <td>100000.0</td>\n",
       "      <td>100000.0</td>\n",
       "      <td>2024-05-23 17:32:52</td>\n",
       "    </tr>\n",
       "    <tr>\n",
       "      <th>11</th>\n",
       "      <td>B10F11A70B36157D2D5694229471758B</td>\n",
       "      <td>20240619</td>\n",
       "      <td>f-9801-000095627919</td>\n",
       "      <td>AC2DF520FB6C8311864521A51836D3BC</td>\n",
       "      <td>406133925289049</td>\n",
       "      <td>100000.0</td>\n",
       "      <td>80909.0</td>\n",
       "      <td>2024-06-19 16:13:05</td>\n",
       "    </tr>\n",
       "    <tr>\n",
       "      <th>12</th>\n",
       "      <td>B10F11A70B36157D2D5694229471758B</td>\n",
       "      <td>20240607</td>\n",
       "      <td>f-9801-000095627919</td>\n",
       "      <td>AC2DF520FB6C8311864521A51836D3BC</td>\n",
       "      <td>406043897192466</td>\n",
       "      <td>100000.0</td>\n",
       "      <td>90000.0</td>\n",
       "      <td>2024-06-07 19:12:38</td>\n",
       "    </tr>\n",
       "    <tr>\n",
       "      <th>13</th>\n",
       "      <td>B10F11A70B36157D2D5694229471758B</td>\n",
       "      <td>20240523</td>\n",
       "      <td>f-9801-000095627919</td>\n",
       "      <td>AC2DF520FB6C8311864521A51836D3BC</td>\n",
       "      <td>405203852906497</td>\n",
       "      <td>100000.0</td>\n",
       "      <td>100000.0</td>\n",
       "      <td>2024-05-23 17:32:53</td>\n",
       "    </tr>\n",
       "    <tr>\n",
       "      <th>14</th>\n",
       "      <td>B10F11A70B36157D2D5694229471758B</td>\n",
       "      <td>20240611</td>\n",
       "      <td>f-9801-000095627919</td>\n",
       "      <td>AC2DF520FB6C8311864521A51836D3BC</td>\n",
       "      <td>406043897192593</td>\n",
       "      <td>100000.0</td>\n",
       "      <td>100000.0</td>\n",
       "      <td>2024-06-11 12:40:12</td>\n",
       "    </tr>\n",
       "    <tr>\n",
       "      <th>15</th>\n",
       "      <td>B10F11A70B36157D2D5694229471758B</td>\n",
       "      <td>20240604</td>\n",
       "      <td>f-9801-000095627919</td>\n",
       "      <td>AC2DF520FB6C8311864521A51836D3BC</td>\n",
       "      <td>406013888037223</td>\n",
       "      <td>100000.0</td>\n",
       "      <td>100000.0</td>\n",
       "      <td>2024-06-04 01:08:58</td>\n",
       "    </tr>\n",
       "    <tr>\n",
       "      <th>16</th>\n",
       "      <td>B10F11A70B36157D2D5694229471758B</td>\n",
       "      <td>20240604</td>\n",
       "      <td>f-9801-000095627919</td>\n",
       "      <td>AC2DF520FB6C8311864521A51836D3BC</td>\n",
       "      <td>406013888033875</td>\n",
       "      <td>100000.0</td>\n",
       "      <td>100000.0</td>\n",
       "      <td>2024-06-04 01:08:58</td>\n",
       "    </tr>\n",
       "    <tr>\n",
       "      <th>17</th>\n",
       "      <td>B10F11A70B36157D2D5694229471758B</td>\n",
       "      <td>20240611</td>\n",
       "      <td>f-9801-000095627919</td>\n",
       "      <td>AC2DF520FB6C8311864521A51836D3BC</td>\n",
       "      <td>406073908441610</td>\n",
       "      <td>50000.0</td>\n",
       "      <td>50000.0</td>\n",
       "      <td>2024-06-11 12:40:13</td>\n",
       "    </tr>\n",
       "    <tr>\n",
       "      <th>18</th>\n",
       "      <td>B10F11A70B36157D2D5694229471758B</td>\n",
       "      <td>20240611</td>\n",
       "      <td>f-9801-000095627919</td>\n",
       "      <td>AC2DF520FB6C8311864521A51836D3BC</td>\n",
       "      <td>406083910705272</td>\n",
       "      <td>20000.0</td>\n",
       "      <td>20000.0</td>\n",
       "      <td>2024-06-11 12:40:13</td>\n",
       "    </tr>\n",
       "    <tr>\n",
       "      <th>19</th>\n",
       "      <td>B10F11A70B36157D2D5694229471758B</td>\n",
       "      <td>20240611</td>\n",
       "      <td>f-9801-000095627919</td>\n",
       "      <td>AC2DF520FB6C8311864521A51836D3BC</td>\n",
       "      <td>406043897192466</td>\n",
       "      <td>100000.0</td>\n",
       "      <td>10000.0</td>\n",
       "      <td>2024-06-11 12:40:11</td>\n",
       "    </tr>\n",
       "    <tr>\n",
       "      <th>20</th>\n",
       "      <td>B10F11A70B36157D2D5694229471758B</td>\n",
       "      <td>20240611</td>\n",
       "      <td>f-9801-000095627919</td>\n",
       "      <td>AC2DF520FB6C8311864521A51836D3BC</td>\n",
       "      <td>406043897193266</td>\n",
       "      <td>50000.0</td>\n",
       "      <td>50000.0</td>\n",
       "      <td>2024-06-11 12:40:12</td>\n",
       "    </tr>\n",
       "    <tr>\n",
       "      <th>21</th>\n",
       "      <td>B10F11A70B36157D2D5694229471758B</td>\n",
       "      <td>20240611</td>\n",
       "      <td>f-9801-000095627919</td>\n",
       "      <td>AC2DF520FB6C8311864521A51836D3BC</td>\n",
       "      <td>406103916362183</td>\n",
       "      <td>20000.0</td>\n",
       "      <td>20000.0</td>\n",
       "      <td>2024-06-11 12:40:13</td>\n",
       "    </tr>\n",
       "    <tr>\n",
       "      <th>22</th>\n",
       "      <td>B10F11A70B36157D2D5694229471758B</td>\n",
       "      <td>20240604</td>\n",
       "      <td>f-9801-000095627919</td>\n",
       "      <td>AC2DF520FB6C8311864521A51836D3BC</td>\n",
       "      <td>406033895929325</td>\n",
       "      <td>50000.0</td>\n",
       "      <td>50000.0</td>\n",
       "      <td>2024-06-04 01:08:59</td>\n",
       "    </tr>\n",
       "    <tr>\n",
       "      <th>23</th>\n",
       "      <td>B1E51EB68D2F6A8F24CD66914455DDD5</td>\n",
       "      <td>20240615</td>\n",
       "      <td>f-9801-000131063599</td>\n",
       "      <td>F80E74A9016DD83AA0783BD8D94FDC17</td>\n",
       "      <td>406153932814070</td>\n",
       "      <td>10000.0</td>\n",
       "      <td>10000.0</td>\n",
       "      <td>2024-06-15 19:29:45</td>\n",
       "    </tr>\n",
       "    <tr>\n",
       "      <th>24</th>\n",
       "      <td>B1E51EB68D2F6A8F24CD66914455DDD5</td>\n",
       "      <td>20240608</td>\n",
       "      <td>f-9801-000131063599</td>\n",
       "      <td>F80E74A9016DD83AA0783BD8D94FDC17</td>\n",
       "      <td>406043898567926</td>\n",
       "      <td>10000.0</td>\n",
       "      <td>10000.0</td>\n",
       "      <td>2024-06-08 18:25:31</td>\n",
       "    </tr>\n",
       "    <tr>\n",
       "      <th>25</th>\n",
       "      <td>B1E51EB68D2F6A8F24CD66914455DDD5</td>\n",
       "      <td>20240608</td>\n",
       "      <td>f-9801-000131063599</td>\n",
       "      <td>F80E74A9016DD83AA0783BD8D94FDC17</td>\n",
       "      <td>406073907900816</td>\n",
       "      <td>10000.0</td>\n",
       "      <td>10000.0</td>\n",
       "      <td>2024-06-08 18:25:31</td>\n",
       "    </tr>\n",
       "    <tr>\n",
       "      <th>26</th>\n",
       "      <td>B2954179F7C4981E2312CB6177EFBBC7</td>\n",
       "      <td>20240524</td>\n",
       "      <td>f-9801-000077119323</td>\n",
       "      <td>2EE8388E78B9293B7FFA2B7B91D3C164</td>\n",
       "      <td>405233862542898</td>\n",
       "      <td>10000.0</td>\n",
       "      <td>10000.0</td>\n",
       "      <td>2024-05-24 16:13:31</td>\n",
       "    </tr>\n",
       "    <tr>\n",
       "      <th>27</th>\n",
       "      <td>B2954179F7C4981E2312CB6177EFBBC7</td>\n",
       "      <td>20240620</td>\n",
       "      <td>f-9801-000077119323</td>\n",
       "      <td>2EE8388E78B9293B7FFA2B7B91D3C164</td>\n",
       "      <td>406203947745398</td>\n",
       "      <td>10000.0</td>\n",
       "      <td>10000.0</td>\n",
       "      <td>2024-06-20 20:25:23</td>\n",
       "    </tr>\n",
       "    <tr>\n",
       "      <th>28</th>\n",
       "      <td>B2954179F7C4981E2312CB6177EFBBC7</td>\n",
       "      <td>20240620</td>\n",
       "      <td>f-9801-000077119323</td>\n",
       "      <td>2EE8388E78B9293B7FFA2B7B91D3C164</td>\n",
       "      <td>406203947615365</td>\n",
       "      <td>10000.0</td>\n",
       "      <td>10000.0</td>\n",
       "      <td>2024-06-20 20:25:23</td>\n",
       "    </tr>\n",
       "    <tr>\n",
       "      <th>29</th>\n",
       "      <td>B2DB38E9E69A5C3744B77278ABD51E17</td>\n",
       "      <td>20240528</td>\n",
       "      <td>f-9801-45600017292189</td>\n",
       "      <td>D95A7EFAFC4D8B069660C0B37F07EE5F</td>\n",
       "      <td>405253869269620</td>\n",
       "      <td>20000.0</td>\n",
       "      <td>20000.0</td>\n",
       "      <td>2024-05-28 13:22:54</td>\n",
       "    </tr>\n",
       "    <tr>\n",
       "      <th>30</th>\n",
       "      <td>B2DB38E9E69A5C3744B77278ABD51E17</td>\n",
       "      <td>20240528</td>\n",
       "      <td>f-9801-45600017292189</td>\n",
       "      <td>D95A7EFAFC4D8B069660C0B37F07EE5F</td>\n",
       "      <td>405163840023539</td>\n",
       "      <td>20000.0</td>\n",
       "      <td>20000.0</td>\n",
       "      <td>2024-05-28 13:22:53</td>\n",
       "    </tr>\n",
       "    <tr>\n",
       "      <th>31</th>\n",
       "      <td>B2DB38E9E69A5C3744B77278ABD51E17</td>\n",
       "      <td>20240601</td>\n",
       "      <td>f-9801-45600017292189</td>\n",
       "      <td>D95A7EFAFC4D8B069660C0B37F07EE5F</td>\n",
       "      <td>405273875597543</td>\n",
       "      <td>5000.0</td>\n",
       "      <td>5000.0</td>\n",
       "      <td>2024-06-01 21:32:41</td>\n",
       "    </tr>\n",
       "    <tr>\n",
       "      <th>32</th>\n",
       "      <td>B2DB38E9E69A5C3744B77278ABD51E17</td>\n",
       "      <td>20240527</td>\n",
       "      <td>f-9801-45600017292189</td>\n",
       "      <td>D95A7EFAFC4D8B069660C0B37F07EE5F</td>\n",
       "      <td>405113825767754</td>\n",
       "      <td>10000.0</td>\n",
       "      <td>557.0</td>\n",
       "      <td>2024-05-27 18:19:34</td>\n",
       "    </tr>\n",
       "    <tr>\n",
       "      <th>33</th>\n",
       "      <td>B2DB38E9E69A5C3744B77278ABD51E17</td>\n",
       "      <td>20240601</td>\n",
       "      <td>f-9801-45600017292189</td>\n",
       "      <td>D95A7EFAFC4D8B069660C0B37F07EE5F</td>\n",
       "      <td>405273876112342</td>\n",
       "      <td>10000.0</td>\n",
       "      <td>7909.0</td>\n",
       "      <td>2024-06-01 21:32:42</td>\n",
       "    </tr>\n",
       "    <tr>\n",
       "      <th>34</th>\n",
       "      <td>B2DB38E9E69A5C3744B77278ABD51E17</td>\n",
       "      <td>20240601</td>\n",
       "      <td>f-9801-45600017292189</td>\n",
       "      <td>D95A7EFAFC4D8B069660C0B37F07EE5F</td>\n",
       "      <td>405273875372600</td>\n",
       "      <td>10000.0</td>\n",
       "      <td>10000.0</td>\n",
       "      <td>2024-06-01 21:32:40</td>\n",
       "    </tr>\n",
       "    <tr>\n",
       "      <th>35</th>\n",
       "      <td>B2DB38E9E69A5C3744B77278ABD51E17</td>\n",
       "      <td>20240615</td>\n",
       "      <td>f-9801-45600017292189</td>\n",
       "      <td>D95A7EFAFC4D8B069660C0B37F07EE5F</td>\n",
       "      <td>406063904392420</td>\n",
       "      <td>20000.0</td>\n",
       "      <td>20000.0</td>\n",
       "      <td>2024-06-15 12:06:03</td>\n",
       "    </tr>\n",
       "    <tr>\n",
       "      <th>36</th>\n",
       "      <td>B2DB38E9E69A5C3744B77278ABD51E17</td>\n",
       "      <td>20240615</td>\n",
       "      <td>f-9801-45600017292189</td>\n",
       "      <td>D95A7EFAFC4D8B069660C0B37F07EE5F</td>\n",
       "      <td>406123923893805</td>\n",
       "      <td>10000.0</td>\n",
       "      <td>10000.0</td>\n",
       "      <td>2024-06-15 12:06:04</td>\n",
       "    </tr>\n",
       "    <tr>\n",
       "      <th>37</th>\n",
       "      <td>B2DB38E9E69A5C3744B77278ABD51E17</td>\n",
       "      <td>20240527</td>\n",
       "      <td>f-9801-45600017292189</td>\n",
       "      <td>D95A7EFAFC4D8B069660C0B37F07EE5F</td>\n",
       "      <td>405123829272827</td>\n",
       "      <td>10000.0</td>\n",
       "      <td>10000.0</td>\n",
       "      <td>2024-05-27 18:19:35</td>\n",
       "    </tr>\n",
       "    <tr>\n",
       "      <th>38</th>\n",
       "      <td>B2DB38E9E69A5C3744B77278ABD51E17</td>\n",
       "      <td>20240612</td>\n",
       "      <td>f-9801-45600017292189</td>\n",
       "      <td>D95A7EFAFC4D8B069660C0B37F07EE5F</td>\n",
       "      <td>406013890705804</td>\n",
       "      <td>20000.0</td>\n",
       "      <td>8909.0</td>\n",
       "      <td>2024-06-12 21:22:03</td>\n",
       "    </tr>\n",
       "    <tr>\n",
       "      <th>39</th>\n",
       "      <td>B2DB38E9E69A5C3744B77278ABD51E17</td>\n",
       "      <td>20240615</td>\n",
       "      <td>f-9801-45600017292189</td>\n",
       "      <td>D95A7EFAFC4D8B069660C0B37F07EE5F</td>\n",
       "      <td>406063904389941</td>\n",
       "      <td>20000.0</td>\n",
       "      <td>20000.0</td>\n",
       "      <td>2024-06-15 12:06:03</td>\n",
       "    </tr>\n",
       "    <tr>\n",
       "      <th>40</th>\n",
       "      <td>B2DB38E9E69A5C3744B77278ABD51E17</td>\n",
       "      <td>20240612</td>\n",
       "      <td>f-9801-45600017292189</td>\n",
       "      <td>D95A7EFAFC4D8B069660C0B37F07EE5F</td>\n",
       "      <td>405283877678898</td>\n",
       "      <td>50000.0</td>\n",
       "      <td>50000.0</td>\n",
       "      <td>2024-06-12 21:22:03</td>\n",
       "    </tr>\n",
       "    <tr>\n",
       "      <th>41</th>\n",
       "      <td>B2DB38E9E69A5C3744B77278ABD51E17</td>\n",
       "      <td>20240527</td>\n",
       "      <td>f-9801-45600017292189</td>\n",
       "      <td>D95A7EFAFC4D8B069660C0B37F07EE5F</td>\n",
       "      <td>405123829133529</td>\n",
       "      <td>10000.0</td>\n",
       "      <td>10000.0</td>\n",
       "      <td>2024-05-27 18:19:35</td>\n",
       "    </tr>\n",
       "    <tr>\n",
       "      <th>42</th>\n",
       "      <td>B2DB38E9E69A5C3744B77278ABD51E17</td>\n",
       "      <td>20240527</td>\n",
       "      <td>f-9801-45600017292189</td>\n",
       "      <td>D95A7EFAFC4D8B069660C0B37F07EE5F</td>\n",
       "      <td>405163840022997</td>\n",
       "      <td>50000.0</td>\n",
       "      <td>50000.0</td>\n",
       "      <td>2024-05-27 18:19:36</td>\n",
       "    </tr>\n",
       "    <tr>\n",
       "      <th>43</th>\n",
       "      <td>B2DB38E9E69A5C3744B77278ABD51E17</td>\n",
       "      <td>20240525</td>\n",
       "      <td>f-9801-45600017292189</td>\n",
       "      <td>D95A7EFAFC4D8B069660C0B37F07EE5F</td>\n",
       "      <td>405083817278329</td>\n",
       "      <td>100000.0</td>\n",
       "      <td>28557.0</td>\n",
       "      <td>2024-05-25 18:11:08</td>\n",
       "    </tr>\n",
       "    <tr>\n",
       "      <th>44</th>\n",
       "      <td>B2DB38E9E69A5C3744B77278ABD51E17</td>\n",
       "      <td>20240527</td>\n",
       "      <td>f-9801-45600017292189</td>\n",
       "      <td>D95A7EFAFC4D8B069660C0B37F07EE5F</td>\n",
       "      <td>405143835276256</td>\n",
       "      <td>10000.0</td>\n",
       "      <td>10000.0</td>\n",
       "      <td>2024-05-27 18:19:35</td>\n",
       "    </tr>\n",
       "    <tr>\n",
       "      <th>45</th>\n",
       "      <td>B2DB38E9E69A5C3744B77278ABD51E17</td>\n",
       "      <td>20240528</td>\n",
       "      <td>f-9801-45600017292189</td>\n",
       "      <td>D95A7EFAFC4D8B069660C0B37F07EE5F</td>\n",
       "      <td>405203852484781</td>\n",
       "      <td>10000.0</td>\n",
       "      <td>10000.0</td>\n",
       "      <td>2024-05-28 13:22:53</td>\n",
       "    </tr>\n",
       "    <tr>\n",
       "      <th>46</th>\n",
       "      <td>B2DB38E9E69A5C3744B77278ABD51E17</td>\n",
       "      <td>20240528</td>\n",
       "      <td>f-9801-45600017292189</td>\n",
       "      <td>D95A7EFAFC4D8B069660C0B37F07EE5F</td>\n",
       "      <td>405253869269993</td>\n",
       "      <td>20000.0</td>\n",
       "      <td>909.0</td>\n",
       "      <td>2024-05-28 13:22:54</td>\n",
       "    </tr>\n",
       "    <tr>\n",
       "      <th>47</th>\n",
       "      <td>B2DB38E9E69A5C3744B77278ABD51E17</td>\n",
       "      <td>20240528</td>\n",
       "      <td>f-9801-45600017292189</td>\n",
       "      <td>D95A7EFAFC4D8B069660C0B37F07EE5F</td>\n",
       "      <td>405163840023257</td>\n",
       "      <td>20000.0</td>\n",
       "      <td>20000.0</td>\n",
       "      <td>2024-05-28 13:22:52</td>\n",
       "    </tr>\n",
       "    <tr>\n",
       "      <th>48</th>\n",
       "      <td>B2DB38E9E69A5C3744B77278ABD51E17</td>\n",
       "      <td>20240528</td>\n",
       "      <td>f-9801-45600017292189</td>\n",
       "      <td>D95A7EFAFC4D8B069660C0B37F07EE5F</td>\n",
       "      <td>405193852116736</td>\n",
       "      <td>10000.0</td>\n",
       "      <td>10000.0</td>\n",
       "      <td>2024-05-28 13:22:53</td>\n",
       "    </tr>\n",
       "    <tr>\n",
       "      <th>49</th>\n",
       "      <td>B2DB38E9E69A5C3744B77278ABD51E17</td>\n",
       "      <td>20240613</td>\n",
       "      <td>f-9801-45600017292189</td>\n",
       "      <td>D95A7EFAFC4D8B069660C0B37F07EE5F</td>\n",
       "      <td>406013890707532</td>\n",
       "      <td>5000.0</td>\n",
       "      <td>5000.0</td>\n",
       "      <td>2024-06-13 18:28:53</td>\n",
       "    </tr>\n",
       "  </tbody>\n",
       "</table>\n",
       "</div>"
      ],
      "text/plain": [
       "                              bib_id  date_key                fake_id  \\\n",
       "0   B086DA1A31C0AC9D54578761D27A3D36  20240604  f-9801-22600022713285   \n",
       "1   B086DA1A31C0AC9D54578761D27A3D36  20240604  f-9801-22600022713285   \n",
       "2   B086DA1A31C0AC9D54578761D27A3D36  20240604  f-9801-22600022713285   \n",
       "3   B086DA1A31C0AC9D54578761D27A3D36  20240604  f-9801-22600022713285   \n",
       "4   B0F4B9A70CC7B095F4A6F068A358F68A  20240610    f-9801-000147317998   \n",
       "5   B0F4B9A70CC7B095F4A6F068A358F68A  20240607    f-9801-000147317998   \n",
       "6   B0F4B9A70CC7B095F4A6F068A358F68A  20240607    f-9801-000147317998   \n",
       "7   B0F4B9A70CC7B095F4A6F068A358F68A  20240531    f-9801-000147317998   \n",
       "8   B0F4B9A70CC7B095F4A6F068A358F68A  20240531    f-9801-000147317998   \n",
       "9   B0F4B9A70CC7B095F4A6F068A358F68A  20240610    f-9801-000147317998   \n",
       "10  B10F11A70B36157D2D5694229471758B  20240523    f-9801-000095627919   \n",
       "11  B10F11A70B36157D2D5694229471758B  20240619    f-9801-000095627919   \n",
       "12  B10F11A70B36157D2D5694229471758B  20240607    f-9801-000095627919   \n",
       "13  B10F11A70B36157D2D5694229471758B  20240523    f-9801-000095627919   \n",
       "14  B10F11A70B36157D2D5694229471758B  20240611    f-9801-000095627919   \n",
       "15  B10F11A70B36157D2D5694229471758B  20240604    f-9801-000095627919   \n",
       "16  B10F11A70B36157D2D5694229471758B  20240604    f-9801-000095627919   \n",
       "17  B10F11A70B36157D2D5694229471758B  20240611    f-9801-000095627919   \n",
       "18  B10F11A70B36157D2D5694229471758B  20240611    f-9801-000095627919   \n",
       "19  B10F11A70B36157D2D5694229471758B  20240611    f-9801-000095627919   \n",
       "20  B10F11A70B36157D2D5694229471758B  20240611    f-9801-000095627919   \n",
       "21  B10F11A70B36157D2D5694229471758B  20240611    f-9801-000095627919   \n",
       "22  B10F11A70B36157D2D5694229471758B  20240604    f-9801-000095627919   \n",
       "23  B1E51EB68D2F6A8F24CD66914455DDD5  20240615    f-9801-000131063599   \n",
       "24  B1E51EB68D2F6A8F24CD66914455DDD5  20240608    f-9801-000131063599   \n",
       "25  B1E51EB68D2F6A8F24CD66914455DDD5  20240608    f-9801-000131063599   \n",
       "26  B2954179F7C4981E2312CB6177EFBBC7  20240524    f-9801-000077119323   \n",
       "27  B2954179F7C4981E2312CB6177EFBBC7  20240620    f-9801-000077119323   \n",
       "28  B2954179F7C4981E2312CB6177EFBBC7  20240620    f-9801-000077119323   \n",
       "29  B2DB38E9E69A5C3744B77278ABD51E17  20240528  f-9801-45600017292189   \n",
       "30  B2DB38E9E69A5C3744B77278ABD51E17  20240528  f-9801-45600017292189   \n",
       "31  B2DB38E9E69A5C3744B77278ABD51E17  20240601  f-9801-45600017292189   \n",
       "32  B2DB38E9E69A5C3744B77278ABD51E17  20240527  f-9801-45600017292189   \n",
       "33  B2DB38E9E69A5C3744B77278ABD51E17  20240601  f-9801-45600017292189   \n",
       "34  B2DB38E9E69A5C3744B77278ABD51E17  20240601  f-9801-45600017292189   \n",
       "35  B2DB38E9E69A5C3744B77278ABD51E17  20240615  f-9801-45600017292189   \n",
       "36  B2DB38E9E69A5C3744B77278ABD51E17  20240615  f-9801-45600017292189   \n",
       "37  B2DB38E9E69A5C3744B77278ABD51E17  20240527  f-9801-45600017292189   \n",
       "38  B2DB38E9E69A5C3744B77278ABD51E17  20240612  f-9801-45600017292189   \n",
       "39  B2DB38E9E69A5C3744B77278ABD51E17  20240615  f-9801-45600017292189   \n",
       "40  B2DB38E9E69A5C3744B77278ABD51E17  20240612  f-9801-45600017292189   \n",
       "41  B2DB38E9E69A5C3744B77278ABD51E17  20240527  f-9801-45600017292189   \n",
       "42  B2DB38E9E69A5C3744B77278ABD51E17  20240527  f-9801-45600017292189   \n",
       "43  B2DB38E9E69A5C3744B77278ABD51E17  20240525  f-9801-45600017292189   \n",
       "44  B2DB38E9E69A5C3744B77278ABD51E17  20240527  f-9801-45600017292189   \n",
       "45  B2DB38E9E69A5C3744B77278ABD51E17  20240528  f-9801-45600017292189   \n",
       "46  B2DB38E9E69A5C3744B77278ABD51E17  20240528  f-9801-45600017292189   \n",
       "47  B2DB38E9E69A5C3744B77278ABD51E17  20240528  f-9801-45600017292189   \n",
       "48  B2DB38E9E69A5C3744B77278ABD51E17  20240528  f-9801-45600017292189   \n",
       "49  B2DB38E9E69A5C3744B77278ABD51E17  20240613  f-9801-45600017292189   \n",
       "\n",
       "                            nid_hash          loan_id  loan_amount  \\\n",
       "0   66D390276DA362AF812951A3C4D3B2DC  406043897194116      10000.0   \n",
       "1   66D390276DA362AF812951A3C4D3B2DC  406033896244618      10000.0   \n",
       "2   66D390276DA362AF812951A3C4D3B2DC  406013888123422      10000.0   \n",
       "3   66D390276DA362AF812951A3C4D3B2DC  406013890052938      10000.0   \n",
       "4   482114E19477CD2B4E4A265E744280F6  406073907763789      10000.0   \n",
       "5   482114E19477CD2B4E4A265E744280F6  406053900741301      10000.0   \n",
       "6   482114E19477CD2B4E4A265E744280F6  406053901724555       5000.0   \n",
       "7   482114E19477CD2B4E4A265E744280F6  405263872431379      10000.0   \n",
       "8   482114E19477CD2B4E4A265E744280F6  405293881882071       5000.0   \n",
       "9   482114E19477CD2B4E4A265E744280F6  406093914301573       5000.0   \n",
       "10  AC2DF520FB6C8311864521A51836D3BC  405203852905117     100000.0   \n",
       "11  AC2DF520FB6C8311864521A51836D3BC  406133925289049     100000.0   \n",
       "12  AC2DF520FB6C8311864521A51836D3BC  406043897192466     100000.0   \n",
       "13  AC2DF520FB6C8311864521A51836D3BC  405203852906497     100000.0   \n",
       "14  AC2DF520FB6C8311864521A51836D3BC  406043897192593     100000.0   \n",
       "15  AC2DF520FB6C8311864521A51836D3BC  406013888037223     100000.0   \n",
       "16  AC2DF520FB6C8311864521A51836D3BC  406013888033875     100000.0   \n",
       "17  AC2DF520FB6C8311864521A51836D3BC  406073908441610      50000.0   \n",
       "18  AC2DF520FB6C8311864521A51836D3BC  406083910705272      20000.0   \n",
       "19  AC2DF520FB6C8311864521A51836D3BC  406043897192466     100000.0   \n",
       "20  AC2DF520FB6C8311864521A51836D3BC  406043897193266      50000.0   \n",
       "21  AC2DF520FB6C8311864521A51836D3BC  406103916362183      20000.0   \n",
       "22  AC2DF520FB6C8311864521A51836D3BC  406033895929325      50000.0   \n",
       "23  F80E74A9016DD83AA0783BD8D94FDC17  406153932814070      10000.0   \n",
       "24  F80E74A9016DD83AA0783BD8D94FDC17  406043898567926      10000.0   \n",
       "25  F80E74A9016DD83AA0783BD8D94FDC17  406073907900816      10000.0   \n",
       "26  2EE8388E78B9293B7FFA2B7B91D3C164  405233862542898      10000.0   \n",
       "27  2EE8388E78B9293B7FFA2B7B91D3C164  406203947745398      10000.0   \n",
       "28  2EE8388E78B9293B7FFA2B7B91D3C164  406203947615365      10000.0   \n",
       "29  D95A7EFAFC4D8B069660C0B37F07EE5F  405253869269620      20000.0   \n",
       "30  D95A7EFAFC4D8B069660C0B37F07EE5F  405163840023539      20000.0   \n",
       "31  D95A7EFAFC4D8B069660C0B37F07EE5F  405273875597543       5000.0   \n",
       "32  D95A7EFAFC4D8B069660C0B37F07EE5F  405113825767754      10000.0   \n",
       "33  D95A7EFAFC4D8B069660C0B37F07EE5F  405273876112342      10000.0   \n",
       "34  D95A7EFAFC4D8B069660C0B37F07EE5F  405273875372600      10000.0   \n",
       "35  D95A7EFAFC4D8B069660C0B37F07EE5F  406063904392420      20000.0   \n",
       "36  D95A7EFAFC4D8B069660C0B37F07EE5F  406123923893805      10000.0   \n",
       "37  D95A7EFAFC4D8B069660C0B37F07EE5F  405123829272827      10000.0   \n",
       "38  D95A7EFAFC4D8B069660C0B37F07EE5F  406013890705804      20000.0   \n",
       "39  D95A7EFAFC4D8B069660C0B37F07EE5F  406063904389941      20000.0   \n",
       "40  D95A7EFAFC4D8B069660C0B37F07EE5F  405283877678898      50000.0   \n",
       "41  D95A7EFAFC4D8B069660C0B37F07EE5F  405123829133529      10000.0   \n",
       "42  D95A7EFAFC4D8B069660C0B37F07EE5F  405163840022997      50000.0   \n",
       "43  D95A7EFAFC4D8B069660C0B37F07EE5F  405083817278329     100000.0   \n",
       "44  D95A7EFAFC4D8B069660C0B37F07EE5F  405143835276256      10000.0   \n",
       "45  D95A7EFAFC4D8B069660C0B37F07EE5F  405203852484781      10000.0   \n",
       "46  D95A7EFAFC4D8B069660C0B37F07EE5F  405253869269993      20000.0   \n",
       "47  D95A7EFAFC4D8B069660C0B37F07EE5F  405163840023257      20000.0   \n",
       "48  D95A7EFAFC4D8B069660C0B37F07EE5F  405193852116736      10000.0   \n",
       "49  D95A7EFAFC4D8B069660C0B37F07EE5F  406013890707532       5000.0   \n",
       "\n",
       "    hsdp_recovery      date_timestamp  \n",
       "0         10000.0 2024-06-04 23:40:07  \n",
       "1         10000.0 2024-06-04 23:40:07  \n",
       "2         10000.0 2024-06-04 23:40:06  \n",
       "3         10000.0 2024-06-04 23:40:07  \n",
       "4         10000.0 2024-06-10 17:51:06  \n",
       "5         10000.0 2024-06-07 18:08:21  \n",
       "6          5000.0 2024-06-07 18:08:22  \n",
       "7         10000.0 2024-05-31 11:11:34  \n",
       "8          5000.0 2024-05-31 11:11:34  \n",
       "9          5000.0 2024-06-10 17:51:07  \n",
       "10       100000.0 2024-05-23 17:32:52  \n",
       "11        80909.0 2024-06-19 16:13:05  \n",
       "12        90000.0 2024-06-07 19:12:38  \n",
       "13       100000.0 2024-05-23 17:32:53  \n",
       "14       100000.0 2024-06-11 12:40:12  \n",
       "15       100000.0 2024-06-04 01:08:58  \n",
       "16       100000.0 2024-06-04 01:08:58  \n",
       "17        50000.0 2024-06-11 12:40:13  \n",
       "18        20000.0 2024-06-11 12:40:13  \n",
       "19        10000.0 2024-06-11 12:40:11  \n",
       "20        50000.0 2024-06-11 12:40:12  \n",
       "21        20000.0 2024-06-11 12:40:13  \n",
       "22        50000.0 2024-06-04 01:08:59  \n",
       "23        10000.0 2024-06-15 19:29:45  \n",
       "24        10000.0 2024-06-08 18:25:31  \n",
       "25        10000.0 2024-06-08 18:25:31  \n",
       "26        10000.0 2024-05-24 16:13:31  \n",
       "27        10000.0 2024-06-20 20:25:23  \n",
       "28        10000.0 2024-06-20 20:25:23  \n",
       "29        20000.0 2024-05-28 13:22:54  \n",
       "30        20000.0 2024-05-28 13:22:53  \n",
       "31         5000.0 2024-06-01 21:32:41  \n",
       "32          557.0 2024-05-27 18:19:34  \n",
       "33         7909.0 2024-06-01 21:32:42  \n",
       "34        10000.0 2024-06-01 21:32:40  \n",
       "35        20000.0 2024-06-15 12:06:03  \n",
       "36        10000.0 2024-06-15 12:06:04  \n",
       "37        10000.0 2024-05-27 18:19:35  \n",
       "38         8909.0 2024-06-12 21:22:03  \n",
       "39        20000.0 2024-06-15 12:06:03  \n",
       "40        50000.0 2024-06-12 21:22:03  \n",
       "41        10000.0 2024-05-27 18:19:35  \n",
       "42        50000.0 2024-05-27 18:19:36  \n",
       "43        28557.0 2024-05-25 18:11:08  \n",
       "44        10000.0 2024-05-27 18:19:35  \n",
       "45        10000.0 2024-05-28 13:22:53  \n",
       "46          909.0 2024-05-28 13:22:54  \n",
       "47        20000.0 2024-05-28 13:22:52  \n",
       "48        10000.0 2024-05-28 13:22:53  \n",
       "49         5000.0 2024-06-13 18:28:53  "
      ]
     },
     "execution_count": 10,
     "metadata": {},
     "output_type": "execute_result"
    }
   ],
   "source": [
    "recovery.limit(50).toPandas()"
   ]
  },
  {
   "cell_type": "code",
   "execution_count": 11,
   "metadata": {},
   "outputs": [
    {
     "name": "stdout",
     "output_type": "stream",
     "text": [
      "+--------------------+--------+-------------------+--------------------+---------------+-----------+-------------------+-------------+\n",
      "|              bib_id|date_key|            fake_id|            nid_hash|        loan_id|loan_amount|     date_timestamp|loan_category|\n",
      "+--------------------+--------+-------------------+--------------------+---------------+-----------+-------------------+-------------+\n",
      "|B10F11A70B36157D2...|20240603|f-9801-000095627919|AC2DF520FB6C83118...|406033895929325|    50000.0|2024-06-03 17:41:07|      20T-50T|\n",
      "|B10F11A70B36157D2...|20240610|f-9801-000095627919|AC2DF520FB6C83118...|406103916362183|    20000.0|2024-06-10 13:55:30|      10T-20T|\n",
      "|B10F11A70B36157D2...|20240601|f-9801-000095627919|AC2DF520FB6C83118...|406013888037223|   100000.0|2024-06-01 00:24:54|     50T-100T|\n",
      "|B10F11A70B36157D2...|20240601|f-9801-000095627919|AC2DF520FB6C83118...|406013888033875|   100000.0|2024-06-01 00:22:45|     50T-100T|\n",
      "|B10F11A70B36157D2...|20240619|f-9801-000095627919|AC2DF520FB6C83118...|406193944723330|    50000.0|2024-06-19 16:13:28|      20T-50T|\n",
      "|B10F11A70B36157D2...|20240607|f-9801-000095627919|AC2DF520FB6C83118...|406073908441610|    50000.0|2024-06-07 21:51:45|      20T-50T|\n",
      "|B10F11A70B36157D2...|20240604|f-9801-000095627919|AC2DF520FB6C83118...|406043897192593|   100000.0|2024-06-04 01:12:00|     50T-100T|\n",
      "|B10F11A70B36157D2...|20240604|f-9801-000095627919|AC2DF520FB6C83118...|406043897192466|   100000.0|2024-06-04 01:11:47|     50T-100T|\n",
      "|B10F11A70B36157D2...|20240604|f-9801-000095627919|AC2DF520FB6C83118...|406043897193266|    50000.0|2024-06-04 01:12:13|      20T-50T|\n",
      "|B10F11A70B36157D2...|20240613|f-9801-000095627919|AC2DF520FB6C83118...|406133925290024|   100000.0|2024-06-13 11:33:32|     50T-100T|\n",
      "|B10F11A70B36157D2...|20240613|f-9801-000095627919|AC2DF520FB6C83118...|406133925290306|    50000.0|2024-06-13 11:33:46|      20T-50T|\n",
      "|B10F11A70B36157D2...|20240613|f-9801-000095627919|AC2DF520FB6C83118...|406133925289049|   100000.0|2024-06-13 11:33:17|     50T-100T|\n",
      "|B10F11A70B36157D2...|20240608|f-9801-000095627919|AC2DF520FB6C83118...|406083910705272|    20000.0|2024-06-08 17:37:47|      10T-20T|\n",
      "+--------------------+--------+-------------------+--------------------+---------------+-----------+-------------------+-------------+\n",
      "\n"
     ]
    }
   ],
   "source": [
    "assign.filter(col(\"bib_id\")==\"B10F11A70B36157D2D5694229471758B\").show()"
   ]
  },
  {
   "cell_type": "code",
   "execution_count": 12,
   "metadata": {},
   "outputs": [
    {
     "name": "stdout",
     "output_type": "stream",
     "text": [
      "root\n",
      " |-- bib_id: string (nullable = true)\n",
      " |-- date_key: string (nullable = true)\n",
      " |-- fake_id: string (nullable = true)\n",
      " |-- nid_hash: string (nullable = true)\n",
      " |-- loan_id: string (nullable = true)\n",
      " |-- loan_amount: double (nullable = true)\n",
      " |-- hsdp_recovery: double (nullable = true)\n",
      " |-- date_timestamp: timestamp (nullable = true)\n",
      "\n"
     ]
    }
   ],
   "source": [
    "recovery.printSchema()"
   ]
  },
  {
   "cell_type": "code",
   "execution_count": 13,
   "metadata": {},
   "outputs": [
    {
     "name": "stdout",
     "output_type": "stream",
     "text": [
      "number of null value in column bib_id : 0\n",
      "number of null value in column date_key : 0\n",
      "number of null value in column fake_id : 446\n",
      "number of null value in column nid_hash : 0\n",
      "number of null value in column loan_id : 0\n",
      "number of null value in column loan_amount : 0\n",
      "number of null value in column hsdp_recovery : 0\n",
      "number of null value in column date_timestamp : 0\n"
     ]
    }
   ],
   "source": [
    "for col_name in recovery.columns:\n",
    "    print(f\"number of null value in column {col_name} : {count_nulls(df = recovery, col_name=col_name)}\")"
   ]
  },
  {
   "cell_type": "code",
   "execution_count": 14,
   "metadata": {},
   "outputs": [
    {
     "name": "stderr",
     "output_type": "stream",
     "text": [
      "                                                                                \r"
     ]
    },
    {
     "name": "stdout",
     "output_type": "stream",
     "text": [
      "Figure saved to: output/Comparison of Recovered and Assigned Loan Amounts --- 82.41% of loan_amounts are recovered.png\n"
     ]
    }
   ],
   "source": [
    "plot_analysis_of_loan_recovery(assign=assign, recovery=recovery)"
   ]
  },
  {
   "cell_type": "markdown",
   "metadata": {},
   "source": [
    "# package"
   ]
  },
  {
   "cell_type": "code",
   "execution_count": 15,
   "metadata": {},
   "outputs": [
    {
     "name": "stdout",
     "output_type": "stream",
     "text": [
      "+--------------------+--------+--------------------+--------------------+-------------+------------+--------------------+-------------------+-------------------+\n",
      "|              bib_id|date_key|             fake_id|            nid_hash|offering_code|offer_amount|       offering_name|    activation_date|  deactivation_date|\n",
      "+--------------------+--------+--------------------+--------------------+-------------+------------+--------------------+-------------------+-------------------+\n",
      "|2CD06C4CFC6A1369A...|20240528| f-9801-000094528288|FC9BAEC665B9F8226...|    PO2034OEB|    242000.0|Weekly 5 GB Internet|2024-05-28 18:54:57|2024-06-04 23:59:59|\n",
      "|2CD06C4CFC6A1369A...|20240612| f-9801-000094528288|FC9BAEC665B9F8226...|    PO2034OEB|    241200.0|Weekly 5 GB Internet|2024-06-12 10:50:35|2024-06-19 23:59:59|\n",
      "|2CE32EAE4456697BC...|20240522| f-9801-000147217121|93B81E93712730BF0...|    PO2083HBH|    215000.0|Weekly 4 GB Internet|2024-05-22 07:53:23|2024-05-29 23:59:59|\n",
      "|2CE32EAE4456697BC...|20240617| f-9801-000147217121|93B81E93712730BF0...|    PO3075SQZ|         0.0|20 GB Special Pac...|2024-06-17 18:03:18|2024-07-17 23:59:59|\n",
      "|2CE32EAE4456697BC...|20240522| f-9801-000147217121|93B81E93712730BF0...|    PO2012XOI|     99000.0|Daily 1 5 GB Inte...|2024-05-22 08:40:53|2024-05-23 08:40:53|\n",
      "|2CE32EAE4456697BC...|20240523| f-9801-000147217121|93B81E93712730BF0...|    PO2105HBH|    835000.0|      120 Days 15 GB|2024-05-23 17:23:39|2024-09-20 17:23:39|\n",
      "|2CE32EAE4456697BC...|20240620| f-9801-000147217121|93B81E93712730BF0...|    PO2023XOI|    194300.0|      15 Days 2 5 GB|2024-06-20 21:41:31|2024-07-05 23:59:59|\n",
      "|2CE32EAE4456697BC...|20240607| f-9801-000147217121|93B81E93712730BF0...|    PO2040VTH|    222000.0|      15 Days 3 5 GB|2024-06-07 08:29:36|2024-06-22 23:59:59|\n",
      "|2CE32EAE4456697BC...|20240607| f-9801-000147217121|93B81E93712730BF0...|    PO2040VTH|    222000.0|      15 Days 3 5 GB|2024-06-07 14:15:49|2024-06-22 23:59:59|\n",
      "|2CE32EAE4456697BC...|20240607| f-9801-000147217121|93B81E93712730BF0...|    PO2006OEB|     52300.0|        Daily 300 MB|2024-06-07 14:21:38|2024-06-08 14:21:38|\n",
      "|2CECFDCA4E088D298...|20240524| f-9801-000133535585|9D189BAD60D5711C2...|    PO1975VTH|    242000.0| Weekly 5GB Internet|2024-05-24 18:59:04|2024-05-31 23:59:59|\n",
      "|2D0296EDDD43C6C5D...|20240612|f-9801-4090000255...|226FB8C789C27C076...|    PO3074SQZ|         0.0|20GB Special Pack...|2024-06-12 21:10:17|2024-07-12 23:59:59|\n",
      "|2D69410247F4A58F3...|20240615|f-9801-3970000801...|6E82950A62016556B...|    PO2711AAS|     18000.0|Smart Bolton 300M...|2024-06-15 19:39:34|2024-06-15 20:39:34|\n",
      "|2D69410247F4A58F3...|20240619|f-9801-3970000801...|6E82950A62016556B...|        86120|      4000.0|Voice Smart Bolto...|2024-06-19 21:14:32|2024-06-19 22:14:32|\n",
      "|2DCD2BBF90E88566B...|20240616| f-9801-000148460185|E5CC3B305E76F543E...|    PO1966OEB|    247900.0|          15Days 5GB|2024-06-16 13:04:02|2024-07-01 23:59:59|\n",
      "|2DCD2BBF90E88566B...|20240530| f-9801-000148460185|E5CC3B305E76F543E...|    PO1994VTH|    380000.0|         Monthly 7GB|2024-05-30 20:19:39|2024-06-29 23:59:59|\n",
      "|2DCD2BBF90E88566B...|20240609| f-9801-000148460185|E5CC3B305E76F543E...|    PO2212HBH|    120600.0|Monthly 30GB Inte...|2024-06-09 03:55:31|2024-07-09 03:55:31|\n",
      "|2DCD2BBF90E88566B...|20240608| f-9801-000148460185|E5CC3B305E76F543E...|    PO1966OEB|    247900.0|          15Days 5GB|2024-06-08 21:26:19|2024-06-23 23:59:59|\n",
      "|2DCD2BBF90E88566B...|20240522| f-9801-000148460185|E5CC3B305E76F543E...|    PO1966OEB|    248000.0|          15Days 5GB|2024-05-22 13:25:02|2024-06-06 23:59:59|\n",
      "|2DD92FA7BBCF33148...|20240522|f-9801-4930003356...|2A524116FD8B074B1...|   8192381943|    300000.0|300000T onnet-150...|2024-05-22 10:45:46|2024-06-21 10:45:46|\n",
      "+--------------------+--------+--------------------+--------------------+-------------+------------+--------------------+-------------------+-------------------+\n",
      "only showing top 20 rows\n",
      "\n"
     ]
    }
   ],
   "source": [
    "package = custom_read_parquet(spark=spark, config=config, key=\"package\", month=month)\n",
    "package = custom_to_timestamp(df=package, col_name=\"activation_date\")\n",
    "package = custom_to_timestamp(df=package, col_name=\"deactivation_date\") \n",
    "package.show()"
   ]
  },
  {
   "cell_type": "code",
   "execution_count": 16,
   "metadata": {},
   "outputs": [
    {
     "name": "stdout",
     "output_type": "stream",
     "text": [
      "root\n",
      " |-- bib_id: string (nullable = true)\n",
      " |-- date_key: string (nullable = true)\n",
      " |-- fake_id: string (nullable = true)\n",
      " |-- nid_hash: string (nullable = true)\n",
      " |-- offering_code: string (nullable = true)\n",
      " |-- offer_amount: double (nullable = true)\n",
      " |-- offering_name: string (nullable = true)\n",
      " |-- activation_date: timestamp (nullable = true)\n",
      " |-- deactivation_date: timestamp (nullable = true)\n",
      "\n"
     ]
    }
   ],
   "source": [
    "package.printSchema()"
   ]
  },
  {
   "cell_type": "code",
   "execution_count": 17,
   "metadata": {},
   "outputs": [
    {
     "name": "stdout",
     "output_type": "stream",
     "text": [
      "number of null value in column bib_id : 0\n",
      "number of null value in column date_key : 0\n",
      "number of null value in column fake_id : 21400\n",
      "number of null value in column nid_hash : 0\n",
      "number of null value in column offering_code : 0\n",
      "number of null value in column offer_amount : 0\n",
      "number of null value in column offering_name : 0\n",
      "number of null value in column activation_date : 0\n",
      "number of null value in column deactivation_date : 0\n"
     ]
    },
    {
     "name": "stderr",
     "output_type": "stream",
     "text": [
      "                                                                                \r"
     ]
    }
   ],
   "source": [
    "for col_name in package.columns:\n",
    "    print(f\"number of null value in column {col_name} : {count_nulls(df = package, col_name=col_name)}\")"
   ]
  },
  {
   "cell_type": "code",
   "execution_count": 18,
   "metadata": {},
   "outputs": [
    {
     "name": "stdout",
     "output_type": "stream",
     "text": [
      "+--------------------+--------+--------------------+--------------------+-------------+------------+--------------------+-------------------+-------------------+--------------------+-----------------+\n",
      "|              bib_id|date_key|             fake_id|            nid_hash|offering_code|offer_amount|       offering_name|    activation_date|  deactivation_date|time_difference_days|duration_category|\n",
      "+--------------------+--------+--------------------+--------------------+-------------+------------+--------------------+-------------------+-------------------+--------------------+-----------------+\n",
      "|2CD06C4CFC6A1369A...|20240528| f-9801-000094528288|FC9BAEC665B9F8226...|    PO2034OEB|    242000.0|Weekly 5 GB Internet|2024-05-28 18:54:57|2024-06-04 23:59:59|                   7|           Weekly|\n",
      "|2CD06C4CFC6A1369A...|20240612| f-9801-000094528288|FC9BAEC665B9F8226...|    PO2034OEB|    241200.0|Weekly 5 GB Internet|2024-06-12 10:50:35|2024-06-19 23:59:59|                   7|           Weekly|\n",
      "|2CE32EAE4456697BC...|20240522| f-9801-000147217121|93B81E93712730BF0...|    PO2083HBH|    215000.0|Weekly 4 GB Internet|2024-05-22 07:53:23|2024-05-29 23:59:59|                   7|           Weekly|\n",
      "|2CE32EAE4456697BC...|20240617| f-9801-000147217121|93B81E93712730BF0...|    PO3075SQZ|         0.0|20 GB Special Pac...|2024-06-17 18:03:18|2024-07-17 23:59:59|                  30|          Monthly|\n",
      "|2CE32EAE4456697BC...|20240522| f-9801-000147217121|93B81E93712730BF0...|    PO2012XOI|     99000.0|Daily 1 5 GB Inte...|2024-05-22 08:40:53|2024-05-23 08:40:53|                   1|            Daily|\n",
      "|2CE32EAE4456697BC...|20240523| f-9801-000147217121|93B81E93712730BF0...|    PO2105HBH|    835000.0|      120 Days 15 GB|2024-05-23 17:23:39|2024-09-20 17:23:39|                 120|         4 Months|\n",
      "|2CE32EAE4456697BC...|20240620| f-9801-000147217121|93B81E93712730BF0...|    PO2023XOI|    194300.0|      15 Days 2 5 GB|2024-06-20 21:41:31|2024-07-05 23:59:59|                  15|     Half-Monthly|\n",
      "|2CE32EAE4456697BC...|20240607| f-9801-000147217121|93B81E93712730BF0...|    PO2040VTH|    222000.0|      15 Days 3 5 GB|2024-06-07 08:29:36|2024-06-22 23:59:59|                  15|     Half-Monthly|\n",
      "|2CE32EAE4456697BC...|20240607| f-9801-000147217121|93B81E93712730BF0...|    PO2040VTH|    222000.0|      15 Days 3 5 GB|2024-06-07 14:15:49|2024-06-22 23:59:59|                  15|     Half-Monthly|\n",
      "|2CE32EAE4456697BC...|20240607| f-9801-000147217121|93B81E93712730BF0...|    PO2006OEB|     52300.0|        Daily 300 MB|2024-06-07 14:21:38|2024-06-08 14:21:38|                   1|            Daily|\n",
      "|2CECFDCA4E088D298...|20240524| f-9801-000133535585|9D189BAD60D5711C2...|    PO1975VTH|    242000.0| Weekly 5GB Internet|2024-05-24 18:59:04|2024-05-31 23:59:59|                   7|           Weekly|\n",
      "|2D0296EDDD43C6C5D...|20240612|f-9801-4090000255...|226FB8C789C27C076...|    PO3074SQZ|         0.0|20GB Special Pack...|2024-06-12 21:10:17|2024-07-12 23:59:59|                  30|          Monthly|\n",
      "|2D69410247F4A58F3...|20240615|f-9801-3970000801...|6E82950A62016556B...|    PO2711AAS|     18000.0|Smart Bolton 300M...|2024-06-15 19:39:34|2024-06-15 20:39:34|                   0|         Same Day|\n",
      "|2D69410247F4A58F3...|20240619|f-9801-3970000801...|6E82950A62016556B...|        86120|      4000.0|Voice Smart Bolto...|2024-06-19 21:14:32|2024-06-19 22:14:32|                   0|         Same Day|\n",
      "|2DCD2BBF90E88566B...|20240616| f-9801-000148460185|E5CC3B305E76F543E...|    PO1966OEB|    247900.0|          15Days 5GB|2024-06-16 13:04:02|2024-07-01 23:59:59|                  15|     Half-Monthly|\n",
      "|2DCD2BBF90E88566B...|20240530| f-9801-000148460185|E5CC3B305E76F543E...|    PO1994VTH|    380000.0|         Monthly 7GB|2024-05-30 20:19:39|2024-06-29 23:59:59|                  30|          Monthly|\n",
      "|2DCD2BBF90E88566B...|20240609| f-9801-000148460185|E5CC3B305E76F543E...|    PO2212HBH|    120600.0|Monthly 30GB Inte...|2024-06-09 03:55:31|2024-07-09 03:55:31|                  30|          Monthly|\n",
      "|2DCD2BBF90E88566B...|20240608| f-9801-000148460185|E5CC3B305E76F543E...|    PO1966OEB|    247900.0|          15Days 5GB|2024-06-08 21:26:19|2024-06-23 23:59:59|                  15|     Half-Monthly|\n",
      "|2DCD2BBF90E88566B...|20240522| f-9801-000148460185|E5CC3B305E76F543E...|    PO1966OEB|    248000.0|          15Days 5GB|2024-05-22 13:25:02|2024-06-06 23:59:59|                  15|     Half-Monthly|\n",
      "|2DD92FA7BBCF33148...|20240522|f-9801-4930003356...|2A524116FD8B074B1...|   8192381943|    300000.0|300000T onnet-150...|2024-05-22 10:45:46|2024-06-21 10:45:46|                  30|          Monthly|\n",
      "+--------------------+--------+--------------------+--------------------+-------------+------------+--------------------+-------------------+-------------------+--------------------+-----------------+\n",
      "only showing top 20 rows\n",
      "\n"
     ]
    }
   ],
   "source": [
    "diff = categorize_time_difference(df=package)\n",
    "diff.show()"
   ]
  },
  {
   "cell_type": "code",
   "execution_count": 22,
   "metadata": {},
   "outputs": [
    {
     "name": "stderr",
     "output_type": "stream",
     "text": [
      "[Stage 113:============================================>          (13 + 3) / 16]\r"
     ]
    },
    {
     "name": "stdout",
     "output_type": "stream",
     "text": [
      "Figure saved to: output/top_10_popular_duration_categorys__month_39.png\n"
     ]
    },
    {
     "name": "stderr",
     "output_type": "stream",
     "text": [
      "                                                                                \r"
     ]
    }
   ],
   "source": [
    "plot_tops(diff, col_name=\"duration_category\", index=10, month=month)"
   ]
  },
  {
   "cell_type": "code",
   "execution_count": 31,
   "metadata": {},
   "outputs": [
    {
     "name": "stderr",
     "output_type": "stream",
     "text": [
      "                                                                                \r"
     ]
    },
    {
     "data": {
      "text/plain": [
       "duration_category\n",
       "Monthly              565094\n",
       "Weekly               263665\n",
       "Same Day             212343\n",
       "Daily                157200\n",
       "2 Months             149657\n",
       "Half-Monthly         103761\n",
       "4 Months              34888\n",
       "6 Months               4314\n",
       "1 Year                  131\n",
       "More than 1 Year          1\n",
       "Name: count, dtype: int64"
      ]
     },
     "execution_count": 31,
     "metadata": {},
     "output_type": "execute_result"
    }
   ],
   "source": [
    "diff.select(\"duration_category\").toPandas().value_counts()"
   ]
  },
  {
   "cell_type": "code",
   "execution_count": null,
   "metadata": {},
   "outputs": [],
   "source": [
    "plot_tops(df=package, col_name=\"offering_name\", index=25, month=month)"
   ]
  },
  {
   "cell_type": "markdown",
   "metadata": {},
   "source": [
    "# recharge"
   ]
  },
  {
   "cell_type": "code",
   "execution_count": 24,
   "metadata": {},
   "outputs": [
    {
     "name": "stdout",
     "output_type": "stream",
     "text": [
      "+--------------------+--------+--------------------+--------------------+------------------+-------------------+--------------+--------------------------+-------------------------+\n",
      "|              bib_id|date_key|             fake_id|            nid_hash|recharge_value_amt|        recharge_dt|origin_host_nm|account_balance_before_amt|account_balance_after_amt|\n",
      "+--------------------+--------+--------------------+--------------------+------------------+-------------------+--------------+--------------------------+-------------------------+\n",
      "|C307AEEF58A203368...|20240531|                NULL|B36F2F6D4BBFE1EE6...|          198182.0|2024-05-31 11:27:15|    MFSEREFILL|                    4111.0|                 202293.0|\n",
      "|C32291ECD31E122CD...|20240613|f-9801-2560001997...|1ED6BE42AA0475B49...|           10000.0|2024-06-13 11:07:12|    MFSEREFILL|                    3437.0|                  13437.0|\n",
      "|C32291ECD31E122CD...|20240618|f-9801-2560001997...|1ED6BE42AA0475B49...|           50000.0|2024-06-18 20:52:13|    MFSEREFILL|                   14159.0|                  64159.0|\n",
      "|C32291ECD31E122CD...|20240618|f-9801-2560001997...|1ED6BE42AA0475B49...|           10000.0|2024-06-18 11:05:19|    MFSEREFILL|                    4159.0|                  14159.0|\n",
      "|C32291ECD31E122CD...|20240618|f-9801-2560001997...|1ED6BE42AA0475B49...|           10000.0|2024-06-18 10:56:06|    MFSEREFILL|                       3.0|                  10003.0|\n",
      "|C32291ECD31E122CD...|20240618|f-9801-2560001997...|1ED6BE42AA0475B49...|           50000.0|2024-06-18 10:54:25|    MFSEREFILL|                       3.0|                  50003.0|\n",
      "|C32291ECD31E122CD...|20240611|f-9801-2560001997...|1ED6BE42AA0475B49...|           10000.0|2024-06-11 09:15:18|    MFSEREFILL|                    4618.0|                  14618.0|\n",
      "|C32291ECD31E122CD...|20240523|f-9801-2560001997...|1ED6BE42AA0475B49...|          100000.0|2024-05-23 11:52:23|    MFSEREFILL|                       3.0|                 100003.0|\n",
      "|C32291ECD31E122CD...|20240607|f-9801-2560001997...|1ED6BE42AA0475B49...|          100000.0|2024-06-07 18:39:54|    MFSEREFILL|                      13.0|                 100013.0|\n",
      "|C32291ECD31E122CD...|20240614|f-9801-2560001997...|1ED6BE42AA0475B49...|           10000.0|2024-06-14 18:45:43|    MFSEREFILL|                    4327.0|                  14327.0|\n",
      "|C32291ECD31E122CD...|20240610|f-9801-2560001997...|1ED6BE42AA0475B49...|           10000.0|2024-06-10 19:43:33|    MFSEREFILL|                    2589.0|                  12589.0|\n",
      "|C32291ECD31E122CD...|20240609|f-9801-2560001997...|1ED6BE42AA0475B49...|           10000.0|2024-06-09 23:54:53|    MFSEREFILL|                    4407.0|                  14407.0|\n",
      "|C32F58BFBBFE2A445...|20240531|f-9801-0070005154...|C3F1C1222039EE007...|           50000.0|2024-05-31 20:45:52|    MFSEREFILL|                   99194.0|                 149194.0|\n",
      "|C32F58BFBBFE2A445...|20240619|f-9801-0070005154...|C3F1C1222039EE007...|           50000.0|2024-06-19 18:08:43|    MFSEREFILL|                   78506.0|                 128506.0|\n",
      "|C332541B62B9241B8...|20240528| f-9801-000093481729|0632B101A76AA363C...|           45454.0|2024-05-28 17:03:13|          USSD|                       9.0|                  45463.0|\n",
      "|C37B89F6A3653E2A8...|20240606| f-9801-000157270783|FA4F2CAF9B0EB32E9...|            5000.0|2024-06-06 17:11:40|    MFSEREFILL|                    4533.0|                   9533.0|\n",
      "|C37B89F6A3653E2A8...|20240525| f-9801-000157270783|FA4F2CAF9B0EB32E9...|           45454.0|2024-05-25 17:26:06|          USSD|                     824.0|                  46278.0|\n",
      "|C37B89F6A3653E2A8...|20240601| f-9801-000157270783|FA4F2CAF9B0EB32E9...|           45454.0|2024-06-01 17:24:21|          USSD|                   15510.0|                  60964.0|\n",
      "|C37B89F6A3653E2A8...|20240608| f-9801-000157270783|FA4F2CAF9B0EB32E9...|           45454.0|2024-06-08 09:35:06|          USSD|                    1323.0|                  46777.0|\n",
      "|C37B89F6A3653E2A8...|20240609| f-9801-000157270783|FA4F2CAF9B0EB32E9...|           45454.0|2024-06-09 08:58:14|          USSD|                   71961.0|                 117415.0|\n",
      "+--------------------+--------+--------------------+--------------------+------------------+-------------------+--------------+--------------------------+-------------------------+\n",
      "only showing top 20 rows\n",
      "\n"
     ]
    }
   ],
   "source": [
    "recharge = custom_read_parquet(spark=spark, config=config, key=\"recharge\", month=month)\n",
    "recharge = custom_to_timestamp(df=recharge, col_name=\"recharge_dt\")\n",
    "recharge.show()"
   ]
  },
  {
   "cell_type": "code",
   "execution_count": 25,
   "metadata": {},
   "outputs": [
    {
     "name": "stdout",
     "output_type": "stream",
     "text": [
      "root\n",
      " |-- bib_id: string (nullable = true)\n",
      " |-- date_key: string (nullable = true)\n",
      " |-- fake_id: string (nullable = true)\n",
      " |-- nid_hash: string (nullable = true)\n",
      " |-- recharge_value_amt: double (nullable = true)\n",
      " |-- recharge_dt: timestamp (nullable = true)\n",
      " |-- origin_host_nm: string (nullable = true)\n",
      " |-- account_balance_before_amt: double (nullable = true)\n",
      " |-- account_balance_after_amt: double (nullable = true)\n",
      "\n"
     ]
    }
   ],
   "source": [
    "recharge.printSchema()"
   ]
  },
  {
   "cell_type": "code",
   "execution_count": 26,
   "metadata": {},
   "outputs": [
    {
     "name": "stdout",
     "output_type": "stream",
     "text": [
      "number of null value in column bib_id : 0\n",
      "number of null value in column date_key : 0\n",
      "number of null value in column fake_id : 4045\n",
      "number of null value in column nid_hash : 0\n",
      "number of null value in column recharge_value_amt : 0\n"
     ]
    },
    {
     "name": "stderr",
     "output_type": "stream",
     "text": [
      "                                                                                \r"
     ]
    },
    {
     "name": "stdout",
     "output_type": "stream",
     "text": [
      "number of null value in column recharge_dt : 0\n",
      "number of null value in column origin_host_nm : 0\n",
      "number of null value in column account_balance_before_amt : 0\n",
      "number of null value in column account_balance_after_amt : 50908\n"
     ]
    }
   ],
   "source": [
    "for col_name in recharge.columns:\n",
    "    print(f\"number of null value in column {col_name} : {count_nulls(df = recharge, col_name=col_name)}\")"
   ]
  },
  {
   "cell_type": "code",
   "execution_count": 27,
   "metadata": {},
   "outputs": [
    {
     "name": "stderr",
     "output_type": "stream",
     "text": [
      "                                                                                \r"
     ]
    },
    {
     "name": "stdout",
     "output_type": "stream",
     "text": [
      "Figure saved to: output/CountPlot_of_recharge_category__month_39.png\n"
     ]
    }
   ],
   "source": [
    "recharge = categorize(\n",
    "    df=recharge, \n",
    "    col_name=\"recharge_value_amt\", \n",
    "    bins=[float('-inf'), 10000, 20000, 50000, 100000, 200000, 500000, float('inf')],\n",
    "    labels=[\"1T\", \"2T\", \"5T\", \"10T\", \"20T\", \"50T\", \"More\"],\n",
    "    new_column_name=\"recharge_category\"\n",
    ")\n",
    "\n",
    "plot_column_distribution(col_df=recharge.select(\"recharge_category\"), plot_type='count', month=month, x=\"recharge_category\")"
   ]
  },
  {
   "cell_type": "code",
   "execution_count": 28,
   "metadata": {},
   "outputs": [
    {
     "name": "stderr",
     "output_type": "stream",
     "text": [
      "                                                                                \r"
     ]
    },
    {
     "name": "stdout",
     "output_type": "stream",
     "text": [
      "Figure saved to: output/LinePlot_of_SumAggregated_recharge_value_amt_by_Hour__month_39.png\n"
     ]
    },
    {
     "name": "stderr",
     "output_type": "stream",
     "text": [
      "                                                                                \r"
     ]
    },
    {
     "name": "stdout",
     "output_type": "stream",
     "text": [
      "Figure saved to: output/LinePlot_of_SumAggregated_recharge_value_amt_by_DayOfWeek__month_39.png\n"
     ]
    },
    {
     "name": "stderr",
     "output_type": "stream",
     "text": [
      "[Stage 152:============================================>          (13 + 3) / 16]\r"
     ]
    },
    {
     "name": "stdout",
     "output_type": "stream",
     "text": [
      "Figure saved to: output/LinePlot_of_SumAggregated_recharge_value_amt_by_DayOfMonth__month_39.png\n"
     ]
    },
    {
     "name": "stderr",
     "output_type": "stream",
     "text": [
      "                                                                                \r"
     ]
    }
   ],
   "source": [
    "plot_aggregated_by_time(df=recharge, timestamp_column=\"recharge_dt\", agg_col=\"recharge_value_amt\", month=month )"
   ]
  },
  {
   "cell_type": "markdown",
   "metadata": {},
   "source": [
    "# user"
   ]
  },
  {
   "cell_type": "code",
   "execution_count": 29,
   "metadata": {},
   "outputs": [
    {
     "name": "stdout",
     "output_type": "stream",
     "text": [
      "+--------------------+--------------------+--------------------+---------------+--------+-------------------+---------------+--------------+---------------+---------------+-----+\n",
      "|              bib_id|             fake_id|            nid_hash|contract_type_v|gender_v|registration_date_d|date_of_birth_d|ability_status|account_balance|base_station_cd|sitei|\n",
      "+--------------------+--------------------+--------------------+---------------+--------+-------------------+---------------+--------------+---------------+---------------+-----+\n",
      "|7ACB75A42872DB823...| f-9801-000164257907|2A82FFC7FB755237D...|              P|       M|           20240201|       20030324|        Active|  108993.449999|      LT5541XA1|T5541|\n",
      "|7ACC6C44D78F20363...|f-9801-0020000933...|680DA2322C87A4E60...|              P|       M|           20070623|       19860701|        Active|       55.18333|        T3432XB| NULL|\n",
      "|7AD3AA1BF5A3AC0C5...|f-9801-1340002540...|49F789BD1A29A408D...|              N|       M|           20180906|       19820607|        Active|            0.0|      LH8838XC1|H8838|\n",
      "|7AE01726A5E9C805F...| f-9801-000166136986|1A47E93370BAAA0F1...|              P|       F|           20230316|       19860920|        Active|    9633.566668|      LE5432XC1|E5432|\n",
      "|7AE05E7D166A4356A...| f-9801-000147812677|D85CAE397E9EC15D0...|              P|       F|           20220612|       20030518|        Active|       9.816679|      LH1702XC1|H1702|\n",
      "|7AEDE41A8134355F5...|                NULL|57443044472587DA8...|              N|       M|           20231227|       19880825|          Hard|            0.0|      LT6690XC1|T6690|\n",
      "|7AF6B5A76AB91B6BF...| f-9801-000096131201|1477A0FB34DF6061B...|              P|       F|           20171226|       19811127|        Active|        0.08333|      UT7784XB4|T7784|\n",
      "|7B08B12E2E902C4F4...| f-9801-000132073426|A9148AA558C8A6668...|              P|       M|           20191104|       19880321|        Active|            2.0|        E1594XA|E1594|\n",
      "|7B24E8494065A71AA...| f-9801-000155630137|0D1EF5593D406F69A...|              N|       F|           20230216|       20000415|        Active|            0.0|      UN4504XB4|N4504|\n",
      "|7B392D126049FB5A8...| f-9801-000094734976|2C613E78F43A667B1...|              P|       M|           20171030|       19591223|        Active|  100005.066662|        H1279XA|H1279|\n",
      "|7B4A3B476BDCCB047...| f-9801-000103074314|275E00D11ABE5D42E...|              P|       F|           20171018|       19800630|        Active|            0.0|      DE2346XB1|E2346|\n",
      "|7B4EA1179318B55EA...| f-9801-000091300473|7F989F9DA9565D513...|              P|       F|           20170703|       19840528|        Active|    1452.999999|      LE5763XB1|E5763|\n",
      "|7B51D1505B4474BA4...| f-9801-000147539035|084B6AC8D9A7393A0...|              P|       M|           20200418|       19510830|        Active|  119257.766665|        T4685XB|T4685|\n",
      "|7B5F9874B6A42058B...| f-9801-000141157503|1EA00D920F7CFB747...|              P|       M|           20210911|       19910707|        Active|   23807.450001|      UT8322XA0|T8322|\n",
      "|7B6A66BF28A9845F9...| f-9801-000104589250|BACDC2884C0FA068C...|              P|       M|           20160511|       19930201|        Active|   45463.516664|      LH1480XC1|H1480|\n",
      "|7BA607295670ECBAF...| f-9801-000107461938|5F386879F7001F55A...|              P|       F|           20111020|       19721129|        Active|      31.866666|        T3786XC| NULL|\n",
      "|7BB2E6979FF712486...| f-9801-000157887333|1CFC28082AF43A035...|              P|       M|           20220627|       19800506|        Active|   11513.450001|        N8145XA|N8145|\n",
      "|7BB8FB59E276A5147...| f-9801-000086994667|EA7E9A4C9BE0F4457...|              N|       M|           20160202|       19810811|          Hard|            0.0|        H2015XA|H2015|\n",
      "|7BBF23428A028B512...| f-9801-000110180254|455DB951E52ED3757...|              P|       F|           20180218|       19850218|        Active|       0.066663|      LT2537XC1|T2537|\n",
      "|7BC57062AD0CAABEC...| f-9801-000101831547|629539FC12F76123D...|              P|       F|           20100503|       19850502|        Active|        9145.95|      UE1900XB4|E1900|\n",
      "+--------------------+--------------------+--------------------+---------------+--------+-------------------+---------------+--------------+---------------+---------------+-----+\n",
      "only showing top 20 rows\n",
      "\n"
     ]
    }
   ],
   "source": [
    "user = custom_read_parquet(spark=spark, config=config, key=\"user\", month=month)\n",
    "user.show()"
   ]
  },
  {
   "cell_type": "code",
   "execution_count": 30,
   "metadata": {},
   "outputs": [
    {
     "data": {
      "text/plain": [
       "gender_v\n",
       "M           602268\n",
       "F           370249\n",
       "N            25989\n",
       "Name: count, dtype: int64"
      ]
     },
     "execution_count": 30,
     "metadata": {},
     "output_type": "execute_result"
    }
   ],
   "source": [
    "user.select(\"gender_v\").toPandas().value_counts()"
   ]
  },
  {
   "cell_type": "markdown",
   "metadata": {},
   "source": [
    "# labeling"
   ]
  },
  {
   "cell_type": "code",
   "execution_count": 32,
   "metadata": {},
   "outputs": [],
   "source": [
    "from labeling_utils import determine_churn_label\n",
    "\n",
    "def get_churn_label():    \n",
    "    current_package_df = custom_read_parquet(spark=spark, config=config, key=\"package\", month=month)\n",
    "    current_package_df = custom_to_timestamp(df=current_package_df, col_name=\"activation_date\")\n",
    "\n",
    "    next_package_df = custom_read_parquet(spark=spark, config=config, key=\"package\", month=next_month)\n",
    "    next_package_df = custom_to_timestamp(df=next_package_df, col_name=\"activation_date\")\n",
    "\n",
    "    current_recharge_df = custom_read_parquet(spark=spark, config=config, key=\"recharge\", month=month)\n",
    "    current_recharge_df = custom_to_timestamp(df=current_recharge_df, col_name=\"recharge_dt\")\n",
    "\n",
    "    next_recharge_df = custom_read_parquet(spark=spark, config=config, key=\"recharge\", month=next_month)\n",
    "    next_recharge_df = custom_to_timestamp(df=next_recharge_df, col_name=\"recharge_dt\")\n",
    "\n",
    "    return  determine_churn_label(current_package_df, current_recharge_df, next_package_df, next_recharge_df)\n",
    "\n",
    "churn_label = get_churn_label()"
   ]
  },
  {
   "cell_type": "code",
   "execution_count": 33,
   "metadata": {},
   "outputs": [
    {
     "name": "stderr",
     "output_type": "stream",
     "text": [
      "[Stage 172:================================>                      (10 + 7) / 17]\r"
     ]
    },
    {
     "name": "stdout",
     "output_type": "stream",
     "text": [
      "+--------------------+-----+\n",
      "|              bib_id|label|\n",
      "+--------------------+-----+\n",
      "|0000CFC78AA4CD390...|    0|\n",
      "|00012757FE6A9C3B7...|    0|\n",
      "|000171D81E79BD61E...|    1|\n",
      "|0002C72A7BC77E249...|    0|\n",
      "|00051CBABA49DBDD9...|    0|\n",
      "|0005E18504583D452...|    1|\n",
      "|00071CB1E187FDEFC...|    0|\n",
      "|000C0B809B8E98820...|    0|\n",
      "|000D047FFEFE03025...|    0|\n",
      "|000D23FAA9CE043AC...|    0|\n",
      "|001719B17F83C6D25...|    0|\n",
      "|001915E85645E5E2C...|    0|\n",
      "|001BC3B1603A4A5D8...|    1|\n",
      "|001DC7DE19C75219A...|    1|\n",
      "|001FAA900DA4B4C2C...|    0|\n",
      "|00204D19AFA17B862...|    0|\n",
      "|00205F24B17A4F2C0...|    0|\n",
      "|002205F6BFCBF0168...|    0|\n",
      "|0024C50C194EEC95F...|    0|\n",
      "|0026A4FFD577699DC...|    0|\n",
      "+--------------------+-----+\n",
      "only showing top 20 rows\n",
      "\n"
     ]
    },
    {
     "name": "stderr",
     "output_type": "stream",
     "text": [
      "                                                                                \r"
     ]
    }
   ],
   "source": [
    "churn_label.show()"
   ]
  },
  {
   "cell_type": "code",
   "execution_count": null,
   "metadata": {},
   "outputs": [],
   "source": []
  }
 ],
 "metadata": {
  "kernelspec": {
   "display_name": "data_stream",
   "language": "python",
   "name": "python3"
  },
  "language_info": {
   "codemirror_mode": {
    "name": "ipython",
    "version": 3
   },
   "file_extension": ".py",
   "mimetype": "text/x-python",
   "name": "python",
   "nbconvert_exporter": "python",
   "pygments_lexer": "ipython3",
   "version": "3.10.12"
  }
 },
 "nbformat": 4,
 "nbformat_minor": 2
}
